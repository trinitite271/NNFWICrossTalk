{
 "cells": [
  {
   "cell_type": "code",
   "execution_count": 1,
   "id": "15d9c7ba",
   "metadata": {},
   "outputs": [],
   "source": [
    "import numpy as np\n",
    "import matplotlib.pyplot as plt\n",
    "import matplotlib\n",
    "def norm_trace(seis):\n",
    "    data_out = np.zeros(np.shape(seis))\n",
    "    for k in range(np.size(seis,axis=1)):\n",
    "        data_out[:,k] = seis[:,k]/np.max(np.abs(seis[:,k]))\n",
    "    seis=data_out\n",
    "    return seis\n",
    "def envelope(xr):\n",
    "    for i in range(np.size(xr,axis=1)):\n",
    "        hx = fftpack.hilbert(xr[:,i])\n",
    "        xr[:,i] = np.sqrt(np.power(xr[:,i],2) + np.power(hx,2))\n",
    "    return xr\n",
    "def imagesc(damp,alpha=1):\n",
    "    fig = plt.figure()\n",
    "    plt.pcolormesh(damp, vmin=np.min(damp)*alpha, vmax=np.max(damp)*alpha,cmap= 'jet')\n",
    "    ax = plt.gca() \n",
    "    ax.invert_yaxis() \n",
    "    plt.colorbar()\n",
    "    matplotlib.cm.get_cmap('jet')\n",
    "def extend_wave(s,nt):\n",
    "    ng = np.size(s,axis=1)\n",
    "    if np.size(s[:,0])<nt:\n",
    "        ss=np.zeros((nt,ng))\n",
    "        for i in range(ng):\n",
    "            xr=np.zeros((nt))\n",
    "            xr[0:np.size(s[:,0])]=s[:,i]\n",
    "            ss[:,i]=xr\n",
    "    return ss\n",
    "def pad(p0, nbc, pad_top):\n",
    "    p=torch.cat((p0[:,0].reshape(-1,1).repeat(1,nbc),p0,p0[:,-1].reshape(-1,1).repeat(1,nbc)),dim=1)\n",
    "    p=torch.cat((p[0,:].reshape(1,-1).repeat(pad_top,1),p,p[-1,:].reshape(1,-1).repeat(nbc,1)),dim=0)\n",
    "    return p"
   ]
  },
  {
   "cell_type": "code",
   "execution_count": 2,
   "id": "44537493",
   "metadata": {},
   "outputs": [],
   "source": [
    "import torch\n",
    "#import visdom\n",
    "from torch.utils.data import DataLoader\n",
    "from torchvision import transforms, datasets\n",
    "from torch import nn, optim\n",
    "\n",
    "import scipy.io as sio\n",
    "\n",
    "class NN1(nn.Module):\n",
    "    def __init__(self, num_input, w0, h0, vmax, vmin):\n",
    "        super(NN1, self).__init__()\n",
    "        self.net1 = nn.Sequential(\n",
    "            nn.Linear(num_input, w0*h0*8,bias=False),        \n",
    "            nn.ReLU(),\n",
    "        )\n",
    "    \n",
    "        self.net2 = nn.Sequential(\n",
    "            nn.UpsamplingBilinear2d(scale_factor=2),\n",
    "            nn.Conv2d(8, 128, (4, 4), stride=(1, 1), padding=\"same\", bias=False),\n",
    "            nn.LeakyReLU(negative_slope=0.01),\n",
    "            \n",
    "            nn.UpsamplingBilinear2d(scale_factor=2),\n",
    "            nn.Conv2d(128, 64, (4, 4), stride=(1, 1), padding=\"same\", bias=False),\n",
    "            nn.LeakyReLU(negative_slope=0.01),\n",
    "            \n",
    "            nn.UpsamplingBilinear2d(scale_factor=2),\n",
    "            nn.Conv2d(64, 32, (4, 4), stride=(1, 1), padding=\"same\", bias=False),\n",
    "            nn.LeakyReLU(negative_slope=0.01),\n",
    "            \n",
    "            nn.UpsamplingBilinear2d(scale_factor=2),\n",
    "            nn.Conv2d(32, 16, (4, 4), stride=(1, 1), padding=\"same\", bias=False),\n",
    "            nn.LeakyReLU(negative_slope=0.01),\n",
    "            \n",
    "#             nn.UpsamplingBilinear2d(scale_factor=2),\n",
    "#             nn.Conv2d(16, 8, (4, 4), stride=(1, 1), padding=\"same\", bias=False),\n",
    "#             nn.LeakyReLU(negative_slope=0.01),\n",
    "            \n",
    "            nn.Conv2d(16, 1, (4, 4), stride=(1, 1), padding=\"same\", bias=False),\n",
    "            \n",
    "        )\n",
    "    def forward(self, x):\n",
    "        \n",
    "        x = self.net1(x)\n",
    "        x = x.reshape(-1, int(num_input), int(w0), int(h0))\n",
    "        x = self.net2(x)\n",
    "        return x\n",
    "    \n",
    "class NN2(nn.Module):\n",
    "    def __init__(self, num_input, w0, h0, vmax, vmin):\n",
    "        super(NN2, self).__init__()\n",
    "        self.net1 = nn.Sequential(\n",
    "            nn.Linear(num_input, w0*h0*8,bias=False),        \n",
    "            nn.ReLU(),\n",
    "        )\n",
    "    \n",
    "        self.net2 = nn.Sequential(\n",
    "            nn.UpsamplingBilinear2d(scale_factor=2),\n",
    "            nn.Conv2d(8, 128, (4, 4), stride=(1, 1), padding=\"same\", bias=False),\n",
    "            nn.LeakyReLU(negative_slope=0.01),\n",
    "            \n",
    "            nn.UpsamplingBilinear2d(scale_factor=2),\n",
    "            nn.Conv2d(128, 64, (4, 4), stride=(1, 1), padding=\"same\", bias=False),\n",
    "            nn.LeakyReLU(negative_slope=0.01),\n",
    "            \n",
    "            nn.UpsamplingBilinear2d(scale_factor=2),\n",
    "            nn.Conv2d(64, 32, (4, 4), stride=(1, 1), padding=\"same\", bias=False),\n",
    "            nn.LeakyReLU(negative_slope=0.01),\n",
    "            \n",
    "            nn.UpsamplingBilinear2d(scale_factor=2),\n",
    "            nn.Conv2d(32, 16, (4, 4), stride=(1, 1), padding=\"same\", bias=False),\n",
    "            nn.LeakyReLU(negative_slope=0.01),\n",
    "            \n",
    "#             nn.UpsamplingBilinear2d(scale_factor=2),\n",
    "#             nn.Conv2d(16, 8, (4, 4), stride=(1, 1), padding=\"same\", bias=False),\n",
    "#             nn.LeakyReLU(negative_slope=0.01),\n",
    "            \n",
    "            nn.Conv2d(16, 1, (4, 4), stride=(1, 1), padding=\"same\", bias=False),\n",
    "            \n",
    "        )\n",
    "    def forward(self, x):\n",
    "        \n",
    "        x = self.net1(x)\n",
    "        x = x.reshape(-1, int(num_input), int(w0), int(h0))\n",
    "        x = self.net2(x)\n",
    "        return x"
   ]
  },
  {
   "cell_type": "code",
   "execution_count": null,
   "id": "bec6dd25",
   "metadata": {},
   "outputs": [],
   "source": []
  },
  {
   "cell_type": "code",
   "execution_count": 3,
   "id": "9b8ae589",
   "metadata": {},
   "outputs": [],
   "source": [
    "import torch.nn.functional as F\n",
    "def staggeredfd_py_cuda(\n",
    "    inputs,\n",
    "    temp,\n",
    "    ca,       \n",
    "    cl,       \n",
    "    cm,       \n",
    "    cm1,        \n",
    "    b,      \n",
    "    b1,      \n",
    "    s):\n",
    "    nt = int(inputs[0])\n",
    "    nzbc = int(inputs[1])\n",
    "    nxbc = int(inputs[2])\n",
    "    dtx = float(inputs[3])\n",
    "    ng = int(inputs[4])\n",
    "    sz = int(inputs[5]);sz = sz - 1;\n",
    "    sx = int(inputs[6]);sx = sx - 1;\n",
    "    gz = int(inputs[7]);gz = gz - 1;\n",
    "    gx = int(inputs[8]);gx = gx - 1;\n",
    "    dg = int(inputs[9])\n",
    "    source_type_num = int(inputs[10])\n",
    "    fd_order_num = int(inputs[11])\n",
    "    number_elements = nt*ng\n",
    "    length_geophone = ng*dg\n",
    "    nt_interval = int(inputs[12])\n",
    "    nz = int(inputs[13])\n",
    "    nx = int(inputs[14])\n",
    "    format_num = int(inputs[15])\n",
    "    nbc = (nxbc-nx)/2\n",
    "    num_nt_record = nt//nt_interval\n",
    "    wavefield_elements = num_nt_record*nx*nz\n",
    "\n",
    "\n",
    "    #   Input variables from python numpy: temp ca cl cm b s\n",
    "    # libtorch Initialising input variables: uu, ww, xx, xz, zz\n",
    "    uu = torch.zeros((nzbc,nxbc), dtype=torch.float32, device=torch.device('cuda', 0))\n",
    "    ww = torch.zeros((nzbc,nxbc), dtype=torch.float32, device=torch.device('cuda', 0))\n",
    "    xx = torch.zeros((nzbc,nxbc), dtype=torch.float32, device=torch.device('cuda', 0))\n",
    "    xz = torch.zeros((nzbc,nxbc), dtype=torch.float32, device=torch.device('cuda', 0))\n",
    "    zz = torch.zeros((nzbc,nxbc), dtype=torch.float32, device=torch.device('cuda', 0))\n",
    "    #  libtorch Initialising input variables: fux, fuz, bwx, bwz\n",
    "    fux = torch.zeros((nzbc,nxbc), dtype=torch.float32, device=torch.device('cuda', 0))\n",
    "    fuz = torch.zeros((nzbc,nxbc), dtype=torch.float32, device=torch.device('cuda', 0))\n",
    "    bwx = torch.zeros((nzbc,nxbc), dtype=torch.float32, device=torch.device('cuda', 0))\n",
    "    bwz = torch.zeros((nzbc,nxbc), dtype=torch.float32, device=torch.device('cuda', 0))\n",
    "    #  libtorch Initialising output variables: seismo_w, seismo_u       \n",
    "    seismo_w = torch.zeros((nt,ng), dtype=torch.float32, device=torch.device('cuda', 0))\n",
    "    seismo_u = torch.zeros((nt,ng), dtype=torch.float32, device=torch.device('cuda', 0))\n",
    "\n",
    "    wavefield_gradient_fux = torch.zeros((nz,nx*num_nt_record), dtype=torch.float32, device=torch.device('cuda', 0))\n",
    "    wavefield_gradient_fuz = torch.zeros((nz,nx*num_nt_record), dtype=torch.float32, device=torch.device('cuda', 0))\n",
    "    wavefield_gradient_bwx = torch.zeros((nz,nx*num_nt_record), dtype=torch.float32, device=torch.device('cuda', 0))\n",
    "    wavefield_gradient_bwz = torch.zeros((nz,nx*num_nt_record), dtype=torch.float32, device=torch.device('cuda', 0))\n",
    "\n",
    "    #  libtorch zero_vector for free surface zz\n",
    "    zero_vector = torch.zeros((1,nxbc), dtype=torch.float32, device=torch.device('cuda', 0))\n",
    "    geophone_vector = torch.zeros((1,nxbc), dtype=torch.float32, device=torch.device('cuda', 0))\n",
    "\n",
    "    if fd_order_num==22 :\n",
    "        k = nzbc-2; i = nxbc-2; pad_top = 1;\n",
    "    elif fd_order_num==24 :\n",
    "        k = nzbc-4; i = nxbc-4; pad_top = 2;\n",
    "    elif fd_order_num==26 :\n",
    "        k = nzbc-6; i = nxbc-6; pad_top = 3;\n",
    "    elif fd_order_num==28 :\n",
    "        k = nzbc-8; i = nxbc-8; pad_top = 4;\n",
    "    S41 = 1.1250;S42 = -0.0416666667;S61 = 1.17187;S62 = -6.51042E-2;S63 = 4.68750E-3;S81 = 1.19629;S82 = -7.97526E-2;S83 = 9.57031E-3;S84 = -6.97545E-4;\n",
    "\n",
    "    for it in range(nt) :\n",
    "        if  fd_order_num == 22 :\n",
    "            uu = F.pad((temp[1:1+k, 1:1+i]*(uu[1:1+k, 1:1+i]) + b[1:1+k, 1:1+i]*(  \\\n",
    "                    xx[1:1+k, 1+1:1+1+i] - xx[1:1+k, 1:1+i] + xz[1:1+k, 1:1+i] - xz[1-1:1-1+k, 1:1+i])), [1, 1, 1, 1])   \n",
    "            ww = F.pad((temp[1:1+k, 1:1+i]*(ww[1:1+k, 1:1+i]) + b1[1:1+k, 1:1+i]*(  \\\n",
    "                    xz[1:1+k, 1:1+i] - xz[1:1+k, 1-1:1-1+i] + zz[1+1:1+1+k, 1:1+i] - zz[1:1+k, 1:1+i])), [1, 1, 1, 1])         \n",
    "        \n",
    "        if source_type_num == 5:\n",
    "            ww[sz,sx]=s[it]\n",
    "        \n",
    "        if fd_order_num == 22 :\n",
    "            fux = F.pad((uu[1:1+k, 1:1+i] - uu[1:1+k, 1-1:1-1+i]), [1, 1, 1, 1])   \n",
    "            fuz = F.pad((uu[1+1:1+1+k, 1:1+i] - uu[1:1+k, 1:1+i]), [1, 1, 1, 1])   \n",
    "            bwx = F.pad((ww[1:1+k, 1+1:1+1+i] - ww[1:1+k, 1:1+i]), [1, 1, 1, 1])   \n",
    "            bwz = F.pad((ww[1:1+k, 1:1+i] - ww[1-1:1-1+k, 1:1+i]), [1, 1, 1, 1])   \n",
    "            \n",
    "        xx=temp * (xx) + (ca * (fux) + cl * (bwz))*dtx\n",
    "        zz=temp * (zz) + (ca * (bwz) + cl * (fux))*dtx\n",
    "        xz=temp * (xz) + (cm1 * (fuz + bwx))*dtx\n",
    "\n",
    "#         zz[pad_top,:]=0.0\n",
    "\n",
    "        seismo_w[it, :] = ww[gz,gx:gx+length_geophone-1:2]\n",
    "\n",
    "        seismo_u[it, :] = uu[gz,gx:gx+length_geophone-1:2]\n",
    "#         if(it%nt_interval==0):\n",
    "#             wavefield_gradient_fux[:, nx*it//nt_interval:nx*it//nt_interval + nx]=fux[pad_top+1:pad_top+1+nz, nbc:nbc + nx]\n",
    "#             wavefield_gradient_fuz[:, nx*it//nt_interval:nx*it//nt_interval + nx]=fuz[pad_top+1:pad_top+1+nz, nbc:nbc + nx]\n",
    "#             wavefield_gradient_bwx[:, nx*it//nt_interval:nx*it//nt_interval + nx]=bwx[pad_top+1:pad_top+1+nz, nbc:nbc + nx]\n",
    "#             wavefield_gradient_bwz[:, nx*it//nt_interval:nx*it//nt_interval + nx]=bwz[pad_top+1:pad_top+1+nz, nbc:nbc + nx]  \n",
    "\n",
    "\n",
    "    return seismo_u,seismo_w"
   ]
  },
  {
   "cell_type": "code",
   "execution_count": 6,
   "id": "a0086b84",
   "metadata": {
    "scrolled": false
   },
   "outputs": [
    {
     "name": "stdout",
     "output_type": "stream",
     "text": [
      "s\n",
      "ca\n",
      "cm\n",
      "cl\n",
      "temp\n",
      "cm1\n",
      "b\n",
      "b1\n",
      "input_vector\n",
      "vs\n"
     ]
    }
   ],
   "source": [
    "import numpy as np\n",
    "import scipy.io as sio\n",
    "dummy_input = sio.loadmat('dummy_input.mat')\n",
    "for dummy_input_key in list(dummy_input.keys())[3:]:\n",
    "    print(dummy_input_key)\n",
    "    exec(dummy_input_key + '=dummy_input[\"' + dummy_input_key + '\"].astype(np.float32)')\n",
    "    exec(dummy_input_key + '=torch.from_numpy(' + dummy_input_key + ').to(\"cuda\")')\n",
    "#     exec(dummy_input_key + '=torch.from_numpy(' + dummy_input_key + ')')\n",
    "tempmat = sio.loadmat('tempmat.mat')\n",
    "temp = tempmat['temp'].astype(np.float32)\n",
    "temp = torch.from_numpy(temp)\n",
    "# geo_l = np.array([range(40,159,2)]).astype(np.float32)\n",
    "# input_vector = input_vector.reshape(-1, 1)\n",
    "# geo_l = torch.from_numpy(geo_l.reshape(-1, 1)).to(\"cuda\")\n",
    "# import sys\n",
    "# sys.path.append('/home/user/.vscode/eigen_staggerfd_2py/')\n",
    "# import eigen_staggerfd_2py\n",
    "# [uu,ww]=eigen_staggerfd_2py.staggeredfd(input_vector,temp,ca,cl,cm,cm1,b,b1,s,geo_l)\n",
    "# input_vector: [nt,nzbc,nxbc,dtx,ng,sz,sx,gz(1),gx(1),gx(2)-gx(1),source_type_num,fd_order_num,in_wf,nz,nx,format_num];\n",
    "# [uu,ww]=staggerfd.forward(input_vector,temp,ca,cl,cm,cm1,b,b1,s)\n",
    "# for gg in range(1,60,8):\n",
    "#     input_vector[6] = geo_l[gg]\n",
    "#     [uu,wwt]=staggerfd.forward(input_vector,temp,ca,cl,cm,cm1,b,b1,s)\n",
    "#     print(gg)\n",
    "#     exec('wwt' + str(gg) + '=wwt')"
   ]
  },
  {
   "cell_type": "code",
   "execution_count": 7,
   "id": "da64b526",
   "metadata": {},
   "outputs": [],
   "source": [
    "import torch\n",
    "import staggerfd\n",
    "import staggerfd_cuda\n",
    "import staggerfd_cuda1"
   ]
  },
  {
   "cell_type": "code",
   "execution_count": null,
   "id": "e37867b1",
   "metadata": {},
   "outputs": [],
   "source": []
  },
  {
   "cell_type": "code",
   "execution_count": 5,
   "id": "afb1c08b",
   "metadata": {},
   "outputs": [],
   "source": [
    "#参数设置\n",
    "# model1=torch.zeros([26,120])\n",
    "# model1[0:12,:]=1000\n",
    "# model1[12:26,:]=2500    #普通测试模型\n",
    "model_list = sio.loadmat('model.mat')\n",
    "model3 = model_list['model3']\n",
    "model36 = torch.from_numpy(model_list['model37'].astype('float32'))\n",
    "# vp_RM = torch.from_numpy(model_list['vp'].astype('float32'))\n",
    "# vs_RM = torch.from_numpy(model_list['vs'].astype('float32'))\n",
    "# vp_RM = torch.from_numpy(model30[0][0][0].astype('float32'))\n",
    "vp_RM = torch.from_numpy(model3.astype('float32'))\n",
    "vs_RM = torch.div(vp_RM,model36)\n",
    "# vs_RM = vp_RM/1.732\n",
    "# vs_RM = torch.from_numpy(model35[0][0][1].astype('float32'))\n",
    "# vs_RM[10:15,:]=600\n",
    "# vs_RM[15:20,:]=700\n",
    "# vs_RM[20:25,:]=800\n",
    "[nz,nx]=vp_RM.shape  #nz：深度网格点数，nx测线方向网格点数\n",
    "nbc=40                  #吸收边界长\n",
    "dx=1                    #一网格点对应深度\n",
    "dt=dx/torch.max(vp_RM)*0.5  #公式\n",
    "# nt=torch.floor(nx*dx/torch.min(vp_RM)/dt+300) #公式，不能过短\n",
    "nt=1100\n",
    "\n",
    "#ricker\n",
    "#[s,~]=ricker(fr,dt,nt)\n",
    "fr=30              #频率\n",
    "# nw=2.2/fr/dt         #2.2？？？\n",
    "# nw=2*torch.floor(nw/2)+1\n",
    "# nc=torch.floor(nw/2)\n",
    "# k=torch.arange(1,nw,1)\n",
    "# alpha = (nc-k+1)*fr*dt*torch.pi\n",
    "# beta=alpha**2\n",
    "# w0 = (1.-beta**2)*torch.exp(-beta)  #ricker子波\n",
    "# s=torch.zeros((nt))\n",
    "# s[0:w0.numel()]=w0\n",
    "########\n",
    "pad_top = 2\n",
    "nbc = 40\n",
    "ds=8\n",
    "sx=torch.arange(0,nx,ds)\n",
    "sz=torch.zeros(sx.shape)+1      #炮点位置\n",
    "ns=sx.numel()\n",
    "dg=2\n",
    "gx=torch.arange(0,nx,dg)\n",
    "ng=gx.numel()\n",
    "gz=torch.zeros(gx.shape)+1\n",
    "isFS=1\n",
    "sx=sx+nbc\n",
    "sz=sz+pad_top-1\n",
    "gx=gx+nbc\n",
    "gz=gz+pad_top-1\n",
    "seismo_v_d=torch.zeros((ns,nt,ng)).to('cuda')\n"
   ]
  },
  {
   "cell_type": "code",
   "execution_count": 6,
   "id": "7f3c76cc",
   "metadata": {},
   "outputs": [],
   "source": [
    "x = torch.rand(size=(1, 8)).requires_grad_(True)\n",
    "vpmax=torch.max(vp_RM)\n",
    "vpmin=torch.min(vp_RM)\n",
    "vsmax=torch.max(vs_RM)\n",
    "vsmin=torch.min(vs_RM)\n",
    "[nz,nx] = vp_RM.shape\n",
    "asd = torch.linspace(vpmin,vpmax,nz).view(-1,1)\n",
    "vp0 = asd.repeat(1,nx)\n",
    "asd = torch.linspace(vsmin,vsmax,nz).view(-1,1)\n",
    "vs0 = asd.repeat(1,nx)\n",
    "num_layer=4\n",
    "num_input = 8\n",
    "w0=int(np.ceil(vp0.shape[0]/(2**num_layer)))\n",
    "h0=int(np.ceil(vp0.shape[1]/(2**num_layer)))\n",
    "torch.set_printoptions(precision=10)\n",
    "maxlinep = vpmax*torch.ones_like(vp0)\n",
    "minlinep = vpmin*torch.ones_like(vp0)\n",
    "maxlines = vsmax*torch.ones_like(vp0)\n",
    "minlines = vsmin*torch.ones_like(vp0)"
   ]
  },
  {
   "cell_type": "code",
   "execution_count": 7,
   "id": "14c7e031",
   "metadata": {},
   "outputs": [
    {
     "data": {
      "text/plain": [
       "tensor(0.0002000000)"
      ]
     },
     "execution_count": 7,
     "metadata": {},
     "output_type": "execute_result"
    }
   ],
   "source": [
    "dt"
   ]
  },
  {
   "cell_type": "code",
   "execution_count": 8,
   "id": "137f2154",
   "metadata": {},
   "outputs": [],
   "source": [
    "sio.savemat('matinverarg.mat',{'vmin':float(vsmin),'nzbc':nz+pad_top+nbc,'nxbc':nx+nbc+nbc, \\\n",
    "            'dx':dx,'isfs':1,'pad_top':pad_top,'f':fr,'dt':float(dt),'nt':nt,'nbc':nbc})"
   ]
  },
  {
   "cell_type": "code",
   "execution_count": 9,
   "id": "da47d92e",
   "metadata": {},
   "outputs": [],
   "source": [
    "!matlab -nojvm -nodesktop -nosplash -r matinter"
   ]
  },
  {
   "cell_type": "code",
   "execution_count": 10,
   "id": "38b02ad6",
   "metadata": {},
   "outputs": [
    {
     "name": "stdout",
     "output_type": "stream",
     "text": [
      "temp\n",
      "s\n"
     ]
    }
   ],
   "source": [
    "dummy_input = sio.loadmat('matinvertemp.mat')\n",
    "for dummy_input_key in list(dummy_input.keys())[3:]:\n",
    "    print(dummy_input_key)\n",
    "    exec(dummy_input_key + '=dummy_input[\"' + dummy_input_key + '\"].astype(np.float32)')\n",
    "    exec(dummy_input_key + '=torch.from_numpy(' + dummy_input_key + ').to(\"cuda\")')"
   ]
  },
  {
   "cell_type": "code",
   "execution_count": 11,
   "id": "51ac0746",
   "metadata": {},
   "outputs": [],
   "source": [
    "\n",
    "dtx = float(dt/dx)\n",
    "den = pad(torch.ones((nz,nx)),nbc,pad_top)\n",
    "vp1 = pad(vp0,nbc,pad_top)\n",
    "vs1 = pad(vs0,nbc,pad_top)\n",
    "ca=torch.mul(vp1**2,den)\n",
    "cm=torch.mul((vs1**2),den)\n",
    "cl=ca - 2*cm\n",
    "# temp = pad(temp,nbc,pad_top)\n",
    "\n",
    "den[0:pad_top,:] = 0.5*den[0:pad_top,:]\n",
    "den1=den\n",
    "den1[pad_top-1,:]=2*den1[pad_top-1,:]\n",
    "cm[0:pad_top,:]=0.5*cm[0:pad_top,:]\n",
    "cm1=cm;\n",
    "cl[0:pad_top-1,:]=0.0;\n",
    "cm1[pad_top-1,:]=2*cm1[pad_top-1,:]\n",
    "ca=cl + 2*cm\n",
    "b=dtx*torch.reciprocal(den)\n",
    "b1=dtx*torch.reciprocal(den1)\n",
    "nzbc = nz + nbc + pad_top\n",
    "nxbc = nx + nbc + nbc\n",
    "source_type_num = 5\n",
    "fd_order_num = 22\n",
    "in_wf = 1\n",
    "format_num = 2\n",
    "# input_vector: [nt,nzbc,nxbc,dtx,ng,sz,sx,gz(1),gx(1),gx(2)-gx(1),source_type_num,fd_order_num,in_wf,nz,nx,format_num];\n"
   ]
  },
  {
   "cell_type": "code",
   "execution_count": 12,
   "id": "d6bb9405",
   "metadata": {},
   "outputs": [],
   "source": [
    "input_vector = torch.tensor([nt,nzbc,nxbc,dtx,ng,int(sz[0]),int(sx[0]),int(gz[0]),int(gx[0]),int(gx[1]-gx[0]), \\\n",
    "                             source_type_num,fd_order_num,in_wf,nz,nx,format_num])"
   ]
  },
  {
   "cell_type": "code",
   "execution_count": 13,
   "id": "35f44475",
   "metadata": {},
   "outputs": [
    {
     "data": {
      "text/plain": [
       "120"
      ]
     },
     "execution_count": 13,
     "metadata": {},
     "output_type": "execute_result"
    }
   ],
   "source": [
    "nx"
   ]
  },
  {
   "cell_type": "code",
   "execution_count": 14,
   "id": "2b1b1c11",
   "metadata": {},
   "outputs": [],
   "source": [
    "model1 = NN1(8, w0, h0, vpmax, vpmin)\n",
    "model2 = NN2(8, w0, h0, vsmax, vsmin)"
   ]
  },
  {
   "cell_type": "code",
   "execution_count": 15,
   "id": "3e83e12b",
   "metadata": {},
   "outputs": [
    {
     "name": "stdout",
     "output_type": "stream",
     "text": [
      "vp_RM\n",
      "vs_RM\n",
      "s\n",
      "sx\n",
      "sz\n",
      "gx\n",
      "gz\n",
      "x\n",
      "vp1 \n",
      "maxlinep\n",
      "minlinep\n",
      "maxlines\n",
      "minlines\n",
      "vs1\n",
      "den\n",
      "input_vector\n",
      "temp\n",
      "vp0\n",
      "vs0\n"
     ]
    },
    {
     "data": {
      "text/plain": [
       "NN2(\n",
       "  (net1): Sequential(\n",
       "    (0): Linear(in_features=8, out_features=128, bias=False)\n",
       "    (1): ReLU()\n",
       "  )\n",
       "  (net2): Sequential(\n",
       "    (0): UpsamplingBilinear2d(scale_factor=2.0, mode=bilinear)\n",
       "    (1): Conv2d(8, 128, kernel_size=(4, 4), stride=(1, 1), padding=same, bias=False)\n",
       "    (2): LeakyReLU(negative_slope=0.01)\n",
       "    (3): UpsamplingBilinear2d(scale_factor=2.0, mode=bilinear)\n",
       "    (4): Conv2d(128, 64, kernel_size=(4, 4), stride=(1, 1), padding=same, bias=False)\n",
       "    (5): LeakyReLU(negative_slope=0.01)\n",
       "    (6): UpsamplingBilinear2d(scale_factor=2.0, mode=bilinear)\n",
       "    (7): Conv2d(64, 32, kernel_size=(4, 4), stride=(1, 1), padding=same, bias=False)\n",
       "    (8): LeakyReLU(negative_slope=0.01)\n",
       "    (9): UpsamplingBilinear2d(scale_factor=2.0, mode=bilinear)\n",
       "    (10): Conv2d(32, 16, kernel_size=(4, 4), stride=(1, 1), padding=same, bias=False)\n",
       "    (11): LeakyReLU(negative_slope=0.01)\n",
       "    (12): Conv2d(16, 1, kernel_size=(4, 4), stride=(1, 1), padding=same, bias=False)\n",
       "  )\n",
       ")"
      ]
     },
     "execution_count": 15,
     "metadata": {},
     "output_type": "execute_result"
    }
   ],
   "source": [
    "for le in ['vp_RM','vs_RM','s','sx','sz','gx','gz','x','vp1 ','maxlinep','minlinep','maxlines','minlines', \\\n",
    "           'vs1','den','input_vector','temp','vp0','vs0']:\n",
    "    print(le)\n",
    "    exec(le + '=' + le + '.to(\"cuda:0\")')\n",
    "model1.to(\"cuda:0\")\n",
    "model2.to(\"cuda:0\")"
   ]
  },
  {
   "cell_type": "code",
   "execution_count": null,
   "id": "d95bd7b7",
   "metadata": {},
   "outputs": [],
   "source": []
  },
  {
   "cell_type": "code",
   "execution_count": 16,
   "id": "5d28dc15",
   "metadata": {
    "scrolled": true
   },
   "outputs": [
    {
     "name": "stdout",
     "output_type": "stream",
     "text": [
      "0\n",
      "1\n",
      "2\n",
      "3\n",
      "4\n",
      "5\n",
      "6\n",
      "7\n",
      "8\n",
      "9\n",
      "10\n",
      "11\n",
      "12\n",
      "13\n",
      "14\n"
     ]
    }
   ],
   "source": [
    "for i in range(ns):\n",
    "#% display(['Synthetic data, shot is=',num2str(is),' ns=',num2str(ns)]);\n",
    "\n",
    "        vp1 = pad(vp_RM,nbc,pad_top)\n",
    "        vs1 = pad(vs_RM,nbc,pad_top)\n",
    "        ca=torch.mul(vp1**2,den)\n",
    "        cm=torch.mul((vs1**2),den)\n",
    "        cl=ca - 2*cm\n",
    "        den[0:pad_top,:] = 0.5*den[0:pad_top,:]\n",
    "        den1=den\n",
    "        den1[pad_top-1,:]=2*den1[pad_top-1,:]\n",
    "        cm[0:pad_top,:]=0.5*cm[0:pad_top,:]\n",
    "        cm1=cm;\n",
    "        cl[0:pad_top-1,:]=0.0;\n",
    "        cm1[pad_top-1,:]=2*cm1[pad_top-1,:]\n",
    "        ca=cl + 2*cm\n",
    "        b=dtx*torch.reciprocal(den)\n",
    "        b1=dtx*torch.reciprocal(den1)\n",
    "        input_vector[6] = (sx[i])\n",
    "        print(i)\n",
    "        [uu,seismo_v_d[i,:,:]]=staggeredfd_py_cuda(input_vector,temp,ca,cl,cm,cm1,b,b1,s)"
   ]
  },
  {
   "cell_type": "code",
   "execution_count": 17,
   "id": "614dae23",
   "metadata": {},
   "outputs": [
    {
     "data": {
      "text/plain": [
       "device(type='cuda', index=0)"
      ]
     },
     "execution_count": 17,
     "metadata": {},
     "output_type": "execute_result"
    }
   ],
   "source": [
    "seismo_v_d.device"
   ]
  },
  {
   "cell_type": "code",
   "execution_count": 18,
   "id": "c5f982fc",
   "metadata": {},
   "outputs": [
    {
     "data": {
      "text/plain": [
       "tensor([-1316.9936523438,  1316.9936523438], dtype=torch.float64)"
      ]
     },
     "execution_count": 18,
     "metadata": {},
     "output_type": "execute_result"
    }
   ],
   "source": [
    "vvpmax = vpmax-vpmin\n",
    "vvpmin = vpmin-vpmax\n",
    "((vvpmax - vvpmin) * np.array([-1,1]) + (vvpmax + vvpmin))/2.0\n",
    "vvsmax = vsmax-vsmin\n",
    "vvsmin = vsmin-vsmax\n",
    "((vvsmax - vvsmin) * np.array([-1,1]) + (vvsmax + vvsmin))/2.0"
   ]
  },
  {
   "cell_type": "code",
   "execution_count": 33,
   "id": "2839f8ad",
   "metadata": {},
   "outputs": [
    {
     "data": {
      "text/plain": [
       "NN2(\n",
       "  (net1): Sequential(\n",
       "    (0): Linear(in_features=8, out_features=128, bias=False)\n",
       "    (1): ReLU()\n",
       "  )\n",
       "  (net2): Sequential(\n",
       "    (0): UpsamplingBilinear2d(scale_factor=2.0, mode=bilinear)\n",
       "    (1): Conv2d(8, 128, kernel_size=(4, 4), stride=(1, 1), padding=same, bias=False)\n",
       "    (2): LeakyReLU(negative_slope=0.01)\n",
       "    (3): UpsamplingBilinear2d(scale_factor=2.0, mode=bilinear)\n",
       "    (4): Conv2d(128, 64, kernel_size=(4, 4), stride=(1, 1), padding=same, bias=False)\n",
       "    (5): LeakyReLU(negative_slope=0.01)\n",
       "    (6): UpsamplingBilinear2d(scale_factor=2.0, mode=bilinear)\n",
       "    (7): Conv2d(64, 32, kernel_size=(4, 4), stride=(1, 1), padding=same, bias=False)\n",
       "    (8): LeakyReLU(negative_slope=0.01)\n",
       "    (9): UpsamplingBilinear2d(scale_factor=2.0, mode=bilinear)\n",
       "    (10): Conv2d(32, 16, kernel_size=(4, 4), stride=(1, 1), padding=same, bias=False)\n",
       "    (11): LeakyReLU(negative_slope=0.01)\n",
       "    (12): Conv2d(16, 1, kernel_size=(4, 4), stride=(1, 1), padding=same, bias=False)\n",
       "  )\n",
       ")"
      ]
     },
     "execution_count": 33,
     "metadata": {},
     "output_type": "execute_result"
    }
   ],
   "source": [
    "import math\n",
    "def weights_init(m):\n",
    "    classname = m.__class__.__name__\n",
    "\n",
    "    if classname.find('Conv2d') != -1:\n",
    "#         fan_in, _ = torch.nn.init._calculate_fan_in_and_fan_out(m.weight)\n",
    "#         bound = 1 / math.sqrt(fan_in) if fan_in > 0 else 0\n",
    "#         torch.nn.init.kaiming_uniform_(m.weight.data,a=math.sqrt(50))\n",
    "        torch.nn.init.xavier_normal_(m.weight.data)\n",
    "#         torch.nn.init.constant_(m.bias.data, 0.0)\n",
    "    elif classname.find('Linear') != -1:\n",
    "#         fan_in, _ = torch.nn.init._calculate_fan_in_and_fan_out(m.weight)\n",
    "#         bound = 1 / math.sqrt(fan_in) if fan_in > 0 else 0\n",
    "#         torch.nn.init.kaiming_uniform_(m.weight.data,a=math.sqrt(50))\n",
    "#         torch.nn.init.uniform_(m.bias.data, -bound, bound)\n",
    "        torch.nn.init.xavier_normal_(m.weight.data)\n",
    "model1.apply(weights_init)\n",
    "model2.apply(weights_init)"
   ]
  },
  {
   "cell_type": "code",
   "execution_count": 30,
   "id": "94f0519b",
   "metadata": {},
   "outputs": [],
   "source": [
    "criteon = nn.MSELoss()\n",
    "from itertools import chain\n",
    "optimizer = optim.Adam(params=chain(model1.parameters(),model2.parameters()))\n",
    "# optimizer = optim.Adam(model.parameters(),lr = 1e-3)\n",
    "# optimizer = optim.Adagrad(model.parameters())"
   ]
  },
  {
   "cell_type": "code",
   "execution_count": 31,
   "id": "fb723811",
   "metadata": {},
   "outputs": [
    {
     "data": {
      "text/plain": [
       "<All keys matched successfully>"
      ]
     },
     "execution_count": 31,
     "metadata": {},
     "output_type": "execute_result"
    }
   ],
   "source": [
    "pretrained_weights = torch.load('./my_model3vp.pth')\n",
    "model1.load_state_dict(pretrained_weights)\n",
    "pretrained_weights = torch.load('./my_model3vs.pth')\n",
    "model2.load_state_dict(pretrained_weights)"
   ]
  },
  {
   "cell_type": "code",
   "execution_count": 22,
   "id": "935c5139",
   "metadata": {},
   "outputs": [
    {
     "data": {
      "text/plain": [
       "<torch.autograd.anomaly_mode.set_detect_anomaly at 0x15551a5b1c0>"
      ]
     },
     "execution_count": 22,
     "metadata": {},
     "output_type": "execute_result"
    }
   ],
   "source": [
    "torch.autograd.set_detect_anomaly(True)"
   ]
  },
  {
   "cell_type": "code",
   "execution_count": 28,
   "id": "137881f7",
   "metadata": {},
   "outputs": [
    {
     "data": {
      "text/plain": [
       "tensor([[1745.8100585938, 1745.8100585938, 1745.8100585938,  ...,\n",
       "         1745.8100585938, 1745.8100585938, 1745.8100585938],\n",
       "        [1745.8100585938, 1745.8100585938, 1745.8100585938,  ...,\n",
       "         1745.8100585938, 1745.8100585938, 1745.8100585938],\n",
       "        [1745.8100585938, 1745.8100585938, 1745.8100585938,  ...,\n",
       "         1745.8100585938, 1745.8100585938, 1745.8100585938],\n",
       "        ...,\n",
       "        [1745.8100585938, 1745.8100585938, 1745.8100585938,  ...,\n",
       "         1745.8100585938, 1745.8100585938, 1745.8100585938],\n",
       "        [1745.8100585938, 1745.8100585938, 1745.8100585938,  ...,\n",
       "         1745.8100585938, 1745.8100585938, 1745.8100585938],\n",
       "        [1745.8100585938, 1745.8100585938, 1745.8100585938,  ...,\n",
       "         1745.8100585938, 1745.8100585938, 1745.8100585938]], device='cuda:0')"
      ]
     },
     "execution_count": 28,
     "metadata": {},
     "output_type": "execute_result"
    }
   ],
   "source": [
    "maxlines"
   ]
  },
  {
   "cell_type": "code",
   "execution_count": null,
   "id": "3053826e",
   "metadata": {
    "scrolled": true
   },
   "outputs": [
    {
     "name": "stdout",
     "output_type": "stream",
     "text": [
      "tensor(7.8482031540e-07, device='cuda:0', grad_fn=<MseLossBackward0>)\n",
      "tensor(6.2474089191e-07, device='cuda:0', grad_fn=<MseLossBackward0>)\n",
      "tensor(4.5568836526e-07, device='cuda:0', grad_fn=<MseLossBackward0>)\n",
      "tensor(6.2186347805e-07, device='cuda:0', grad_fn=<MseLossBackward0>)\n",
      "tensor(6.2527976752e-07, device='cuda:0', grad_fn=<MseLossBackward0>)\n",
      "tensor(7.5748243944e-07, device='cuda:0', grad_fn=<MseLossBackward0>)\n",
      "tensor(8.2576525529e-07, device='cuda:0', grad_fn=<MseLossBackward0>)\n",
      "tensor(8.6822382173e-07, device='cuda:0', grad_fn=<MseLossBackward0>)\n",
      "tensor(1.0763370710e-06, device='cuda:0', grad_fn=<MseLossBackward0>)\n",
      "tensor(1.3054994952e-06, device='cuda:0', grad_fn=<MseLossBackward0>)\n",
      "tensor(7.9786298102e-07, device='cuda:0', grad_fn=<MseLossBackward0>)\n",
      "tensor(1.1748886664e-06, device='cuda:0', grad_fn=<MseLossBackward0>)\n",
      "tensor(9.6485484846e-07, device='cuda:0', grad_fn=<MseLossBackward0>)\n",
      "tensor(9.0098524197e-07, device='cuda:0', grad_fn=<MseLossBackward0>)\n",
      "tensor(1.2267202010e-06, device='cuda:0', grad_fn=<MseLossBackward0>)\n",
      "step\n",
      "tensor(6.7831939532e-07, device='cuda:0', grad_fn=<MseLossBackward0>)\n",
      "tensor(8.4003545453e-07, device='cuda:0', grad_fn=<MseLossBackward0>)\n",
      "tensor(6.4777572106e-07, device='cuda:0', grad_fn=<MseLossBackward0>)\n",
      "tensor(9.0120636287e-07, device='cuda:0', grad_fn=<MseLossBackward0>)\n",
      "tensor(5.9602825786e-07, device='cuda:0', grad_fn=<MseLossBackward0>)\n",
      "tensor(7.8943224935e-07, device='cuda:0', grad_fn=<MseLossBackward0>)\n",
      "tensor(9.6302574093e-07, device='cuda:0', grad_fn=<MseLossBackward0>)\n",
      "tensor(7.7270482279e-07, device='cuda:0', grad_fn=<MseLossBackward0>)\n",
      "tensor(1.1116478618e-06, device='cuda:0', grad_fn=<MseLossBackward0>)\n",
      "tensor(1.2583308262e-06, device='cuda:0', grad_fn=<MseLossBackward0>)\n",
      "tensor(9.2527130846e-07, device='cuda:0', grad_fn=<MseLossBackward0>)\n",
      "tensor(1.5901413235e-06, device='cuda:0', grad_fn=<MseLossBackward0>)\n",
      "tensor(8.1243297245e-07, device='cuda:0', grad_fn=<MseLossBackward0>)\n",
      "tensor(9.5390601018e-07, device='cuda:0', grad_fn=<MseLossBackward0>)\n",
      "tensor(1.5886066649e-06, device='cuda:0', grad_fn=<MseLossBackward0>)\n",
      "step\n",
      "tensor(1.2381873375e-06, device='cuda:0', grad_fn=<MseLossBackward0>)\n",
      "tensor(7.9497027627e-07, device='cuda:0', grad_fn=<MseLossBackward0>)\n",
      "tensor(6.1075832036e-07, device='cuda:0', grad_fn=<MseLossBackward0>)\n",
      "tensor(9.5118423360e-07, device='cuda:0', grad_fn=<MseLossBackward0>)\n",
      "tensor(8.5585389797e-07, device='cuda:0', grad_fn=<MseLossBackward0>)\n",
      "tensor(8.8116763663e-07, device='cuda:0', grad_fn=<MseLossBackward0>)\n",
      "tensor(9.6870883226e-07, device='cuda:0', grad_fn=<MseLossBackward0>)\n",
      "tensor(9.5597567906e-07, device='cuda:0', grad_fn=<MseLossBackward0>)\n",
      "tensor(1.2235933582e-06, device='cuda:0', grad_fn=<MseLossBackward0>)\n",
      "tensor(1.3241125316e-06, device='cuda:0', grad_fn=<MseLossBackward0>)\n",
      "tensor(9.3029598247e-07, device='cuda:0', grad_fn=<MseLossBackward0>)\n",
      "tensor(1.4592678781e-06, device='cuda:0', grad_fn=<MseLossBackward0>)\n",
      "tensor(1.3862504602e-06, device='cuda:0', grad_fn=<MseLossBackward0>)\n",
      "tensor(1.0895639662e-06, device='cuda:0', grad_fn=<MseLossBackward0>)\n",
      "tensor(1.3356470845e-06, device='cuda:0', grad_fn=<MseLossBackward0>)\n",
      "step\n",
      "tensor(1.0385912219e-06, device='cuda:0', grad_fn=<MseLossBackward0>)\n",
      "tensor(1.0919980014e-06, device='cuda:0', grad_fn=<MseLossBackward0>)\n",
      "tensor(6.5285451001e-07, device='cuda:0', grad_fn=<MseLossBackward0>)\n",
      "tensor(1.1021829778e-06, device='cuda:0', grad_fn=<MseLossBackward0>)\n",
      "tensor(6.7399531645e-07, device='cuda:0', grad_fn=<MseLossBackward0>)\n",
      "tensor(9.8487987543e-07, device='cuda:0', grad_fn=<MseLossBackward0>)\n",
      "tensor(1.0601467011e-06, device='cuda:0', grad_fn=<MseLossBackward0>)\n",
      "tensor(7.6899135593e-07, device='cuda:0', grad_fn=<MseLossBackward0>)\n",
      "tensor(1.2357027117e-06, device='cuda:0', grad_fn=<MseLossBackward0>)\n",
      "tensor(1.4888420310e-06, device='cuda:0', grad_fn=<MseLossBackward0>)\n",
      "tensor(1.2481057183e-06, device='cuda:0', grad_fn=<MseLossBackward0>)\n",
      "tensor(1.9567069103e-06, device='cuda:0', grad_fn=<MseLossBackward0>)\n",
      "tensor(1.0084995665e-06, device='cuda:0', grad_fn=<MseLossBackward0>)\n",
      "tensor(1.1800585753e-06, device='cuda:0', grad_fn=<MseLossBackward0>)\n",
      "tensor(2.0914424113e-06, device='cuda:0', grad_fn=<MseLossBackward0>)\n",
      "step\n",
      "tensor(1.7180657323e-06, device='cuda:0', grad_fn=<MseLossBackward0>)\n",
      "tensor(1.1038055163e-06, device='cuda:0', grad_fn=<MseLossBackward0>)\n",
      "tensor(7.9279271858e-07, device='cuda:0', grad_fn=<MseLossBackward0>)\n",
      "tensor(1.2458772289e-06, device='cuda:0', grad_fn=<MseLossBackward0>)\n",
      "tensor(1.0260978343e-06, device='cuda:0', grad_fn=<MseLossBackward0>)\n",
      "tensor(1.0271747897e-06, device='cuda:0', grad_fn=<MseLossBackward0>)\n",
      "tensor(1.1833232065e-06, device='cuda:0', grad_fn=<MseLossBackward0>)\n",
      "tensor(1.1409280205e-06, device='cuda:0', grad_fn=<MseLossBackward0>)\n",
      "tensor(1.4166824940e-06, device='cuda:0', grad_fn=<MseLossBackward0>)\n",
      "tensor(1.5705236365e-06, device='cuda:0', grad_fn=<MseLossBackward0>)\n",
      "tensor(1.1035733678e-06, device='cuda:0', grad_fn=<MseLossBackward0>)\n",
      "tensor(1.7514086039e-06, device='cuda:0', grad_fn=<MseLossBackward0>)\n",
      "tensor(1.7615413981e-06, device='cuda:0', grad_fn=<MseLossBackward0>)\n",
      "tensor(1.3027909063e-06, device='cuda:0', grad_fn=<MseLossBackward0>)\n",
      "tensor(1.5806438114e-06, device='cuda:0', grad_fn=<MseLossBackward0>)\n",
      "step\n",
      "tensor(1.0222429410e-06, device='cuda:0', grad_fn=<MseLossBackward0>)\n",
      "tensor(1.1372163726e-06, device='cuda:0', grad_fn=<MseLossBackward0>)\n",
      "tensor(9.0961805199e-07, device='cuda:0', grad_fn=<MseLossBackward0>)\n",
      "tensor(1.4185720829e-06, device='cuda:0', grad_fn=<MseLossBackward0>)\n",
      "tensor(9.0471678504e-07, device='cuda:0', grad_fn=<MseLossBackward0>)\n",
      "tensor(1.0900420193e-06, device='cuda:0', grad_fn=<MseLossBackward0>)\n",
      "tensor(1.2354615819e-06, device='cuda:0', grad_fn=<MseLossBackward0>)\n",
      "tensor(9.5671418876e-07, device='cuda:0', grad_fn=<MseLossBackward0>)\n",
      "tensor(1.3828323517e-06, device='cuda:0', grad_fn=<MseLossBackward0>)\n",
      "tensor(1.6370198637e-06, device='cuda:0', grad_fn=<MseLossBackward0>)\n",
      "tensor(1.2230628954e-06, device='cuda:0', grad_fn=<MseLossBackward0>)\n",
      "tensor(1.9215106022e-06, device='cuda:0', grad_fn=<MseLossBackward0>)\n",
      "tensor(1.0705198292e-06, device='cuda:0', grad_fn=<MseLossBackward0>)\n",
      "tensor(1.3144377817e-06, device='cuda:0', grad_fn=<MseLossBackward0>)\n",
      "tensor(2.2205222194e-06, device='cuda:0', grad_fn=<MseLossBackward0>)\n",
      "step\n",
      "tensor(1.2909398492e-06, device='cuda:0', grad_fn=<MseLossBackward0>)\n",
      "tensor(8.8298378387e-07, device='cuda:0', grad_fn=<MseLossBackward0>)\n",
      "tensor(6.6446017399e-07, device='cuda:0', grad_fn=<MseLossBackward0>)\n",
      "tensor(1.0221067441e-06, device='cuda:0', grad_fn=<MseLossBackward0>)\n",
      "tensor(9.2516427230e-07, device='cuda:0', grad_fn=<MseLossBackward0>)\n",
      "tensor(9.2642056870e-07, device='cuda:0', grad_fn=<MseLossBackward0>)\n",
      "tensor(1.0469711924e-06, device='cuda:0', grad_fn=<MseLossBackward0>)\n",
      "tensor(1.0518591580e-06, device='cuda:0', grad_fn=<MseLossBackward0>)\n",
      "tensor(1.3567567976e-06, device='cuda:0', grad_fn=<MseLossBackward0>)\n",
      "tensor(1.6226696289e-06, device='cuda:0', grad_fn=<MseLossBackward0>)\n",
      "tensor(1.0006727962e-06, device='cuda:0', grad_fn=<MseLossBackward0>)\n",
      "tensor(1.4573600993e-06, device='cuda:0', grad_fn=<MseLossBackward0>)\n",
      "tensor(1.4437133586e-06, device='cuda:0', grad_fn=<MseLossBackward0>)\n",
      "tensor(1.2207535747e-06, device='cuda:0', grad_fn=<MseLossBackward0>)\n",
      "tensor(1.5626777667e-06, device='cuda:0', grad_fn=<MseLossBackward0>)\n",
      "step\n",
      "tensor(7.6656755255e-07, device='cuda:0', grad_fn=<MseLossBackward0>)\n",
      "tensor(7.9400655295e-07, device='cuda:0', grad_fn=<MseLossBackward0>)\n",
      "tensor(4.6444350232e-07, device='cuda:0', grad_fn=<MseLossBackward0>)\n",
      "tensor(7.4415271456e-07, device='cuda:0', grad_fn=<MseLossBackward0>)\n",
      "tensor(5.3967863778e-07, device='cuda:0', grad_fn=<MseLossBackward0>)\n",
      "tensor(8.3045500787e-07, device='cuda:0', grad_fn=<MseLossBackward0>)\n",
      "tensor(8.6676209321e-07, device='cuda:0', grad_fn=<MseLossBackward0>)\n",
      "tensor(6.6195207182e-07, device='cuda:0', grad_fn=<MseLossBackward0>)\n",
      "tensor(9.8249370240e-07, device='cuda:0', grad_fn=<MseLossBackward0>)\n",
      "tensor(1.2038510704e-06, device='cuda:0', grad_fn=<MseLossBackward0>)\n",
      "tensor(1.0106415402e-06, device='cuda:0', grad_fn=<MseLossBackward0>)\n",
      "tensor(1.4877003878e-06, device='cuda:0', grad_fn=<MseLossBackward0>)\n"
     ]
    },
    {
     "name": "stdout",
     "output_type": "stream",
     "text": [
      "tensor(7.6762324852e-07, device='cuda:0', grad_fn=<MseLossBackward0>)\n",
      "tensor(8.2897122411e-07, device='cuda:0', grad_fn=<MseLossBackward0>)\n",
      "tensor(1.5055674112e-06, device='cuda:0', grad_fn=<MseLossBackward0>)\n",
      "step\n",
      "tensor(6.8111376095e-07, device='cuda:0', grad_fn=<MseLossBackward0>)\n",
      "tensor(5.1887514019e-07, device='cuda:0', grad_fn=<MseLossBackward0>)\n",
      "tensor(3.7388949181e-07, device='cuda:0', grad_fn=<MseLossBackward0>)\n",
      "tensor(5.0109997574e-07, device='cuda:0', grad_fn=<MseLossBackward0>)\n",
      "tensor(4.9857402473e-07, device='cuda:0', grad_fn=<MseLossBackward0>)\n",
      "tensor(6.3827781105e-07, device='cuda:0', grad_fn=<MseLossBackward0>)\n",
      "tensor(7.4305694397e-07, device='cuda:0', grad_fn=<MseLossBackward0>)\n",
      "tensor(6.6306716917e-07, device='cuda:0', grad_fn=<MseLossBackward0>)\n",
      "tensor(8.6088607532e-07, device='cuda:0', grad_fn=<MseLossBackward0>)\n",
      "tensor(9.0945781039e-07, device='cuda:0', grad_fn=<MseLossBackward0>)\n",
      "tensor(7.0065630098e-07, device='cuda:0', grad_fn=<MseLossBackward0>)\n",
      "tensor(1.1348801081e-06, device='cuda:0', grad_fn=<MseLossBackward0>)\n",
      "tensor(8.2731901330e-07, device='cuda:0', grad_fn=<MseLossBackward0>)\n",
      "tensor(6.7212874910e-07, device='cuda:0', grad_fn=<MseLossBackward0>)\n",
      "tensor(1.0193795106e-06, device='cuda:0', grad_fn=<MseLossBackward0>)\n",
      "step\n",
      "tensor(5.8237554867e-07, device='cuda:0', grad_fn=<MseLossBackward0>)\n",
      "tensor(4.9928161161e-07, device='cuda:0', grad_fn=<MseLossBackward0>)\n",
      "tensor(3.5494892359e-07, device='cuda:0', grad_fn=<MseLossBackward0>)\n",
      "tensor(4.7279002047e-07, device='cuda:0', grad_fn=<MseLossBackward0>)\n",
      "tensor(4.6149037303e-07, device='cuda:0', grad_fn=<MseLossBackward0>)\n",
      "tensor(6.0312936512e-07, device='cuda:0', grad_fn=<MseLossBackward0>)\n",
      "tensor(7.3172219572e-07, device='cuda:0', grad_fn=<MseLossBackward0>)\n",
      "tensor(6.2870651618e-07, device='cuda:0', grad_fn=<MseLossBackward0>)\n",
      "tensor(8.4700343450e-07, device='cuda:0', grad_fn=<MseLossBackward0>)\n",
      "tensor(8.6608616812e-07, device='cuda:0', grad_fn=<MseLossBackward0>)\n",
      "tensor(6.8113126872e-07, device='cuda:0', grad_fn=<MseLossBackward0>)\n",
      "tensor(1.1509691831e-06, device='cuda:0', grad_fn=<MseLossBackward0>)\n",
      "tensor(7.4496244906e-07, device='cuda:0', grad_fn=<MseLossBackward0>)\n",
      "tensor(6.5762174017e-07, device='cuda:0', grad_fn=<MseLossBackward0>)\n",
      "tensor(1.0312969607e-06, device='cuda:0', grad_fn=<MseLossBackward0>)\n",
      "step\n",
      "tensor(5.8882682197e-07, device='cuda:0', grad_fn=<MseLossBackward0>)\n",
      "tensor(6.5440383423e-07, device='cuda:0', grad_fn=<MseLossBackward0>)\n",
      "tensor(4.0761844389e-07, device='cuda:0', grad_fn=<MseLossBackward0>)\n",
      "tensor(6.0621590592e-07, device='cuda:0', grad_fn=<MseLossBackward0>)\n",
      "tensor(4.4908370000e-07, device='cuda:0', grad_fn=<MseLossBackward0>)\n",
      "tensor(6.5582810294e-07, device='cuda:0', grad_fn=<MseLossBackward0>)\n",
      "tensor(7.5644044273e-07, device='cuda:0', grad_fn=<MseLossBackward0>)\n",
      "tensor(6.3897425662e-07, device='cuda:0', grad_fn=<MseLossBackward0>)\n",
      "tensor(9.0187194246e-07, device='cuda:0', grad_fn=<MseLossBackward0>)\n",
      "tensor(1.0341479992e-06, device='cuda:0', grad_fn=<MseLossBackward0>)\n",
      "tensor(8.1892494563e-07, device='cuda:0', grad_fn=<MseLossBackward0>)\n",
      "tensor(1.2718303424e-06, device='cuda:0', grad_fn=<MseLossBackward0>)\n",
      "tensor(6.6838026669e-07, device='cuda:0', grad_fn=<MseLossBackward0>)\n",
      "tensor(7.1085003128e-07, device='cuda:0', grad_fn=<MseLossBackward0>)\n",
      "tensor(1.2165484122e-06, device='cuda:0', grad_fn=<MseLossBackward0>)\n",
      "step\n",
      "tensor(8.1089240211e-07, device='cuda:0', grad_fn=<MseLossBackward0>)\n",
      "tensor(6.5175692043e-07, device='cuda:0', grad_fn=<MseLossBackward0>)\n",
      "tensor(4.8407673603e-07, device='cuda:0', grad_fn=<MseLossBackward0>)\n",
      "tensor(6.8366773576e-07, device='cuda:0', grad_fn=<MseLossBackward0>)\n",
      "tensor(6.9619642318e-07, device='cuda:0', grad_fn=<MseLossBackward0>)\n",
      "tensor(7.7529421105e-07, device='cuda:0', grad_fn=<MseLossBackward0>)\n",
      "tensor(8.2617589214e-07, device='cuda:0', grad_fn=<MseLossBackward0>)\n",
      "tensor(8.8307859869e-07, device='cuda:0', grad_fn=<MseLossBackward0>)\n",
      "tensor(1.0659206282e-06, device='cuda:0', grad_fn=<MseLossBackward0>)\n",
      "tensor(1.2435895087e-06, device='cuda:0', grad_fn=<MseLossBackward0>)\n",
      "tensor(7.9953622389e-07, device='cuda:0', grad_fn=<MseLossBackward0>)\n",
      "tensor(1.1514401876e-06, device='cuda:0', grad_fn=<MseLossBackward0>)\n",
      "tensor(1.1001965277e-06, device='cuda:0', grad_fn=<MseLossBackward0>)\n",
      "tensor(9.2154027698e-07, device='cuda:0', grad_fn=<MseLossBackward0>)\n",
      "tensor(1.2075569202e-06, device='cuda:0', grad_fn=<MseLossBackward0>)\n",
      "step\n",
      "tensor(7.1438518034e-07, device='cuda:0', grad_fn=<MseLossBackward0>)\n",
      "tensor(8.1682213704e-07, device='cuda:0', grad_fn=<MseLossBackward0>)\n",
      "tensor(5.6828235984e-07, device='cuda:0', grad_fn=<MseLossBackward0>)\n",
      "tensor(8.7245587110e-07, device='cuda:0', grad_fn=<MseLossBackward0>)\n",
      "tensor(5.8528905811e-07, device='cuda:0', grad_fn=<MseLossBackward0>)\n",
      "tensor(7.6649979519e-07, device='cuda:0', grad_fn=<MseLossBackward0>)\n",
      "tensor(9.0414982878e-07, device='cuda:0', grad_fn=<MseLossBackward0>)\n",
      "tensor(7.4151733997e-07, device='cuda:0', grad_fn=<MseLossBackward0>)\n",
      "tensor(1.0232489558e-06, device='cuda:0', grad_fn=<MseLossBackward0>)\n",
      "tensor(1.1908185797e-06, device='cuda:0', grad_fn=<MseLossBackward0>)\n",
      "tensor(9.1769805977e-07, device='cuda:0', grad_fn=<MseLossBackward0>)\n",
      "tensor(1.4668058839e-06, device='cuda:0', grad_fn=<MseLossBackward0>)\n",
      "tensor(7.4725483046e-07, device='cuda:0', grad_fn=<MseLossBackward0>)\n",
      "tensor(8.5804765604e-07, device='cuda:0', grad_fn=<MseLossBackward0>)\n",
      "tensor(1.5048645992e-06, device='cuda:0', grad_fn=<MseLossBackward0>)\n",
      "step\n",
      "tensor(9.2305651833e-07, device='cuda:0', grad_fn=<MseLossBackward0>)\n",
      "tensor(6.4763241880e-07, device='cuda:0', grad_fn=<MseLossBackward0>)\n",
      "tensor(4.6652499464e-07, device='cuda:0', grad_fn=<MseLossBackward0>)\n",
      "tensor(6.7915237878e-07, device='cuda:0', grad_fn=<MseLossBackward0>)\n",
      "tensor(6.2756060970e-07, device='cuda:0', grad_fn=<MseLossBackward0>)\n",
      "tensor(7.2330789180e-07, device='cuda:0', grad_fn=<MseLossBackward0>)\n",
      "tensor(8.4386044819e-07, device='cuda:0', grad_fn=<MseLossBackward0>)\n",
      "tensor(7.9133673125e-07, device='cuda:0', grad_fn=<MseLossBackward0>)\n",
      "tensor(9.8413909200e-07, device='cuda:0', grad_fn=<MseLossBackward0>)\n",
      "tensor(1.0543528788e-06, device='cuda:0', grad_fn=<MseLossBackward0>)\n",
      "tensor(7.6414301020e-07, device='cuda:0', grad_fn=<MseLossBackward0>)\n",
      "tensor(1.2832026641e-06, device='cuda:0', grad_fn=<MseLossBackward0>)\n",
      "tensor(1.0843386917e-06, device='cuda:0', grad_fn=<MseLossBackward0>)\n",
      "tensor(8.3173506482e-07, device='cuda:0', grad_fn=<MseLossBackward0>)\n",
      "tensor(1.1095607988e-06, device='cuda:0', grad_fn=<MseLossBackward0>)\n",
      "step\n",
      "tensor(5.0596099754e-07, device='cuda:0', grad_fn=<MseLossBackward0>)\n",
      "tensor(5.8309723272e-07, device='cuda:0', grad_fn=<MseLossBackward0>)\n",
      "tensor(3.5947229549e-07, device='cuda:0', grad_fn=<MseLossBackward0>)\n",
      "tensor(5.5806293631e-07, device='cuda:0', grad_fn=<MseLossBackward0>)\n",
      "tensor(4.2238232822e-07, device='cuda:0', grad_fn=<MseLossBackward0>)\n",
      "tensor(6.5823081741e-07, device='cuda:0', grad_fn=<MseLossBackward0>)\n",
      "tensor(7.3805136935e-07, device='cuda:0', grad_fn=<MseLossBackward0>)\n",
      "tensor(6.0522501144e-07, device='cuda:0', grad_fn=<MseLossBackward0>)\n",
      "tensor(8.8388316044e-07, device='cuda:0', grad_fn=<MseLossBackward0>)\n",
      "tensor(9.6473138456e-07, device='cuda:0', grad_fn=<MseLossBackward0>)\n",
      "tensor(7.7840275026e-07, device='cuda:0', grad_fn=<MseLossBackward0>)\n",
      "tensor(1.2568925740e-06, device='cuda:0', grad_fn=<MseLossBackward0>)\n",
      "tensor(6.4977393777e-07, device='cuda:0', grad_fn=<MseLossBackward0>)\n",
      "tensor(7.0524822604e-07, device='cuda:0', grad_fn=<MseLossBackward0>)\n",
      "tensor(1.1728074014e-06, device='cuda:0', grad_fn=<MseLossBackward0>)\n",
      "step\n",
      "tensor(5.1803436918e-07, device='cuda:0', grad_fn=<MseLossBackward0>)\n",
      "tensor(4.7773835377e-07, device='cuda:0', grad_fn=<MseLossBackward0>)\n",
      "tensor(3.2928105043e-07, device='cuda:0', grad_fn=<MseLossBackward0>)\n",
      "tensor(4.3882542400e-07, device='cuda:0', grad_fn=<MseLossBackward0>)\n",
      "tensor(4.2751861429e-07, device='cuda:0', grad_fn=<MseLossBackward0>)\n",
      "tensor(6.0556538983e-07, device='cuda:0', grad_fn=<MseLossBackward0>)\n",
      "tensor(6.7163534823e-07, device='cuda:0', grad_fn=<MseLossBackward0>)\n",
      "tensor(6.2061968720e-07, device='cuda:0', grad_fn=<MseLossBackward0>)\n",
      "tensor(8.2725375705e-07, device='cuda:0', grad_fn=<MseLossBackward0>)\n"
     ]
    },
    {
     "name": "stdout",
     "output_type": "stream",
     "text": [
      "tensor(9.1323732931e-07, device='cuda:0', grad_fn=<MseLossBackward0>)\n",
      "tensor(6.6185970127e-07, device='cuda:0', grad_fn=<MseLossBackward0>)\n",
      "tensor(1.0292009165e-06, device='cuda:0', grad_fn=<MseLossBackward0>)\n",
      "tensor(6.5685003392e-07, device='cuda:0', grad_fn=<MseLossBackward0>)\n",
      "tensor(5.8649624179e-07, device='cuda:0', grad_fn=<MseLossBackward0>)\n",
      "tensor(9.2632154747e-07, device='cuda:0', grad_fn=<MseLossBackward0>)\n",
      "step\n",
      "tensor(5.2800510275e-07, device='cuda:0', grad_fn=<MseLossBackward0>)\n",
      "tensor(4.5335085019e-07, device='cuda:0', grad_fn=<MseLossBackward0>)\n",
      "tensor(3.2053904420e-07, device='cuda:0', grad_fn=<MseLossBackward0>)\n",
      "tensor(4.3366026148e-07, device='cuda:0', grad_fn=<MseLossBackward0>)\n",
      "tensor(4.1951318508e-07, device='cuda:0', grad_fn=<MseLossBackward0>)\n",
      "tensor(5.9365027028e-07, device='cuda:0', grad_fn=<MseLossBackward0>)\n",
      "tensor(6.8948975240e-07, device='cuda:0', grad_fn=<MseLossBackward0>)\n",
      "tensor(6.2399965373e-07, device='cuda:0', grad_fn=<MseLossBackward0>)\n",
      "tensor(7.9232512462e-07, device='cuda:0', grad_fn=<MseLossBackward0>)\n",
      "tensor(8.8209816340e-07, device='cuda:0', grad_fn=<MseLossBackward0>)\n",
      "tensor(6.3344430146e-07, device='cuda:0', grad_fn=<MseLossBackward0>)\n",
      "tensor(1.0419544196e-06, device='cuda:0', grad_fn=<MseLossBackward0>)\n",
      "tensor(7.2650260563e-07, device='cuda:0', grad_fn=<MseLossBackward0>)\n",
      "tensor(5.8129950276e-07, device='cuda:0', grad_fn=<MseLossBackward0>)\n",
      "tensor(9.1627913434e-07, device='cuda:0', grad_fn=<MseLossBackward0>)\n",
      "step\n",
      "tensor(4.7926738489e-07, device='cuda:0', grad_fn=<MseLossBackward0>)\n",
      "tensor(5.5562475154e-07, device='cuda:0', grad_fn=<MseLossBackward0>)\n",
      "tensor(4.0294625592e-07, device='cuda:0', grad_fn=<MseLossBackward0>)\n",
      "tensor(5.8978321249e-07, device='cuda:0', grad_fn=<MseLossBackward0>)\n",
      "tensor(4.4692032475e-07, device='cuda:0', grad_fn=<MseLossBackward0>)\n",
      "tensor(6.3456320731e-07, device='cuda:0', grad_fn=<MseLossBackward0>)\n",
      "tensor(7.2878418678e-07, device='cuda:0', grad_fn=<MseLossBackward0>)\n",
      "tensor(6.0896178411e-07, device='cuda:0', grad_fn=<MseLossBackward0>)\n"
     ]
    }
   ],
   "source": [
    "for i in range(10000):\n",
    "    optimizer.zero_grad() \n",
    "    for gg in range(ns):\n",
    "        \n",
    "        \n",
    "        yp = model1(x)\n",
    "        yp = ((vvpmax - vvpmin) * torch.tanh(yp) + (vvpmax + vvpmin))/2.0\n",
    "        yp = torch.squeeze(yp)\n",
    "        y_shape0 = (yp.shape[0] - vp0.shape[0])//2\n",
    "        y_shape1 = (yp.shape[1] - vp0.shape[1])//2\n",
    "        velocityp = vp0 + yp[y_shape0:y_shape0+vp0.shape[0],y_shape1:y_shape1+vp0.shape[1]]\n",
    "        velocityp = torch.where(velocityp > vpmax, maxlinep, velocityp)\n",
    "        velocityp = torch.where(velocityp < vpmin, minlinep, velocityp)\n",
    "                \n",
    "        ys = model2(x)\n",
    "        ys = ((vvsmax - vvsmin) * torch.tanh(ys) + (vvsmax + vvsmin))/2.0\n",
    "        ys = torch.squeeze(ys)\n",
    "        velocitys = vs0 + ys[y_shape0:y_shape0+vp0.shape[0],y_shape1:y_shape1+vp0.shape[1]]\n",
    "        velocitys = torch.where(velocitys > vsmax, maxlines, velocitys)\n",
    "        velocitys = torch.where(velocitys < vsmin, minlines, velocitys)\n",
    "        \n",
    "        vp1 = pad(velocityp,nbc,pad_top)\n",
    "        vs1 = pad(velocitys,nbc,pad_top)\n",
    "        ca=torch.mul(vp1**2,den)\n",
    "        cm=torch.mul((vs1**2),den)\n",
    "        cl=ca - 2*cm\n",
    "#         den[0:pad_top,:] = 0.5*den[0:pad_top,:]\n",
    "        den1=den\n",
    "#         den1[pad_top-1,:]=2*den1[pad_top-1,:]\n",
    "#         cm[0:pad_top,:]=0.5*cm[0:pad_top,:]\n",
    "        cm1=cm;\n",
    "#         cl[0:pad_top-1,:]=0.0;\n",
    "#         cm1[pad_top-1,:]=2*cm1[pad_top-1,:]\n",
    "        ca=cl + 2*cm\n",
    "        b=dtx*torch.reciprocal(den)\n",
    "        b1=dtx*torch.reciprocal(den1)\n",
    "        input_vector[6] = int(sx[gg])\n",
    "#         [uu,wwt]=staggeredfd_py_cuda(input_vector,temp,ca,cl,cm,cm1,b,b1,s)\n",
    "        [seismo_u,seismo_w]=staggeredfd_py_cuda(input_vector,temp,ca,cl,cm,cm1,b,b1,s)\n",
    "        loss = criteon(seismo_w.reshape(-1,1),seismo_v_d[gg,:,:].reshape(-1,1))\n",
    "        loss.backward()\n",
    "        print(loss)\n",
    "    optimizer.step()\n",
    "    print('step')\n",
    "    if i%5==0:\n",
    "        imagesc(velocityp.detach().cpu().numpy())\n",
    "        imagesc(velocitys.detach().cpu().numpy())\n",
    "#         plt.savefig('./model_low/iter' + str(j) + '.png')"
   ]
  },
  {
   "cell_type": "code",
   "execution_count": 21,
   "id": "aa886be1",
   "metadata": {},
   "outputs": [
    {
     "data": {
      "text/plain": [
       "device(type='cpu')"
      ]
     },
     "execution_count": 21,
     "metadata": {},
     "output_type": "execute_result"
    }
   ],
   "source": [
    "vp0.device"
   ]
  },
  {
   "cell_type": "code",
   "execution_count": 44,
   "id": "6d9f9c5b",
   "metadata": {},
   "outputs": [
    {
     "data": {
      "image/png": "[encoded data removed]",
      "text/plain": [
       "<Figure size 432x288 with 2 Axes>"
      ]
     },
     "metadata": {
      "needs_background": "light"
     },
     "output_type": "display_data"
    }
   ],
   "source": [
    "# j=0\n",
    "imagesc(velocityp.detach().cpu().numpy())\n",
    "# plt.savefig('./model_low/iter' + str(j) + '.png')"
   ]
  },
  {
   "cell_type": "code",
   "execution_count": 45,
   "id": "a6860867",
   "metadata": {},
   "outputs": [
    {
     "data": {
      "image/png": "[encoded data removed]",
      "text/plain": [
       "<Figure size 432x288 with 2 Axes>"
      ]
     },
     "metadata": {
      "needs_background": "light"
     },
     "output_type": "display_data"
    }
   ],
   "source": [
    "imagesc(velocitys.detach().cpu().numpy())"
   ]
  },
  {
   "cell_type": "code",
   "execution_count": 25,
   "id": "67bf6ee0",
   "metadata": {},
   "outputs": [
    {
     "data": {
      "image/png": "[encoded data removed]",
      "text/plain": [
       "<Figure size 432x288 with 2 Axes>"
      ]
     },
     "metadata": {
      "needs_background": "light"
     },
     "output_type": "display_data"
    }
   ],
   "source": [
    "imagesc(vs_RM.detach().cpu().numpy())"
   ]
  },
  {
   "cell_type": "code",
   "execution_count": 52,
   "id": "bd8c7979",
   "metadata": {},
   "outputs": [],
   "source": [
    "import copy\n",
    "model_low_model_wts = copy.deepcopy(model2.state_dict())\n",
    "PATH = \"./my_model3vs.pth\"\n",
    "torch.save(model_low_model_wts, PATH)"
   ]
  },
  {
   "cell_type": "code",
   "execution_count": 26,
   "id": "264d627b",
   "metadata": {},
   "outputs": [
    {
     "data": {
      "image/png": "[encoded data removed]",
      "text/plain": [
       "<Figure size 432x288 with 2 Axes>"
      ]
     },
     "metadata": {
      "needs_background": "light"
     },
     "output_type": "display_data"
    }
   ],
   "source": [
    "imagesc(seismo_v_d[10,:,:].detach().cpu().numpy())"
   ]
  },
  {
   "cell_type": "code",
   "execution_count": null,
   "id": "a6252d2d",
   "metadata": {},
   "outputs": [],
   "source": []
  }
 ],
 "metadata": {
  "kernelspec": {
   "display_name": "Python 3 (ipykernel)",
   "language": "python",
   "name": "python3"
  },
  "language_info": {
   "codemirror_mode": {
    "name": "ipython",
    "version": 3
   },
   "file_extension": ".py",
   "mimetype": "text/x-python",
   "name": "python",
   "nbconvert_exporter": "python",
   "pygments_lexer": "ipython3",
   "version": "3.10.4"
  },
  "varInspector": {
   "cols": {
    "lenName": 16,
    "lenType": 16,
    "lenVar": 40
   },
   "kernels_config": {
    "python": {
     "delete_cmd_postfix": "",
     "delete_cmd_prefix": "del ",
     "library": "var_list.py",
     "varRefreshCmd": "print(var_dic_list())"
    },
    "r": {
     "delete_cmd_postfix": ") ",
     "delete_cmd_prefix": "rm(",
     "library": "var_list.r",
     "varRefreshCmd": "cat(var_dic_list()) "
    }
   },
   "position": {
    "height": "732.844px",
    "left": "1756.2px",
    "right": "20px",
    "top": "104px",
    "width": "416px"
   },
   "types_to_exclude": [
    "module",
    "function",
    "builtin_function_or_method",
    "instance",
    "_Feature"
   ],
   "window_display": true
  }
 },
 "nbformat": 4,
 "nbformat_minor": 5
}
