{
 "cells": [
  {
   "cell_type": "code",
   "execution_count": 1,
   "id": "15d9c7ba",
   "metadata": {},
   "outputs": [],
   "source": [
    "import numpy as np\n",
    "import matplotlib.pyplot as plt\n",
    "import matplotlib\n",
    "def norm_trace(seis):\n",
    "    data_out = np.zeros(np.shape(seis))\n",
    "    for k in range(np.size(seis,axis=1)):\n",
    "        data_out[:,k] = seis[:,k]/np.max(np.abs(seis[:,k]))\n",
    "    seis=data_out\n",
    "    return seis\n",
    "def envelope(xr):\n",
    "    for i in range(np.size(xr,axis=1)):\n",
    "        hx = fftpack.hilbert(xr[:,i])\n",
    "        xr[:,i] = np.sqrt(np.power(xr[:,i],2) + np.power(hx,2))\n",
    "    return xr\n",
    "def imagesc(damp,alpha=1):\n",
    "    fig = plt.figure()\n",
    "    plt.pcolormesh(damp, vmin=np.min(damp)*alpha, vmax=np.max(damp)*alpha,cmap= 'jet')\n",
    "    ax = plt.gca() \n",
    "    ax.invert_yaxis() \n",
    "    plt.colorbar()\n",
    "    matplotlib.cm.get_cmap('jet')\n",
    "def extend_wave(s,nt):\n",
    "    ng = np.size(s,axis=1)\n",
    "    if np.size(s[:,0])<nt:\n",
    "        ss=np.zeros((nt,ng))\n",
    "        for i in range(ng):\n",
    "            xr=np.zeros((nt))\n",
    "            xr[0:np.size(s[:,0])]=s[:,i]\n",
    "            ss[:,i]=xr\n",
    "    return ss\n",
    "def pad(p0, nbc, pad_top):\n",
    "    p=torch.cat((p0[:,0].reshape(-1,1).repeat(1,nbc),p0,p0[:,-1].reshape(-1,1).repeat(1,nbc)),dim=1)\n",
    "    p=torch.cat((p[0,:].reshape(1,-1).repeat(pad_top,1),p,p[-1,:].reshape(1,-1).repeat(nbc,1)),dim=0)\n",
    "    return p"
   ]
  },
  {
   "cell_type": "code",
   "execution_count": 2,
   "id": "44537493",
   "metadata": {},
   "outputs": [],
   "source": [
    "import torch\n",
    "#import visdom\n",
    "from torch.utils.data import DataLoader\n",
    "from torchvision import transforms, datasets\n",
    "from torch import nn, optim\n",
    "\n",
    "import scipy.io as sio\n",
    "\n",
    "class NN(nn.Module):\n",
    "    def __init__(self, num_input, w0, h0, vmax, vmin):\n",
    "        super(NN, self).__init__()\n",
    "        self.net1 = nn.Sequential(\n",
    "            nn.Linear(num_input, w0*h0*8,bias=False),        \n",
    "            nn.ReLU(),\n",
    "        )\n",
    "    \n",
    "        self.net2 = nn.Sequential(\n",
    "            nn.UpsamplingBilinear2d(scale_factor=2),\n",
    "            nn.Conv2d(8, 128, (4, 4), stride=(1, 1), padding=\"same\", bias=False),\n",
    "            nn.LeakyReLU(negative_slope=0.01),\n",
    "            \n",
    "            nn.UpsamplingBilinear2d(scale_factor=2),\n",
    "            nn.Conv2d(128, 64, (4, 4), stride=(1, 1), padding=\"same\", bias=False),\n",
    "            nn.LeakyReLU(negative_slope=0.01),\n",
    "            \n",
    "            nn.UpsamplingBilinear2d(scale_factor=2),\n",
    "            nn.Conv2d(64, 32, (4, 4), stride=(1, 1), padding=\"same\", bias=False),\n",
    "            nn.LeakyReLU(negative_slope=0.01),\n",
    "            \n",
    "            nn.UpsamplingBilinear2d(scale_factor=2),\n",
    "            nn.Conv2d(32, 16, (4, 4), stride=(1, 1), padding=\"same\", bias=False),\n",
    "            nn.LeakyReLU(negative_slope=0.01),\n",
    "            \n",
    "#             nn.UpsamplingBilinear2d(scale_factor=2),\n",
    "#             nn.Conv2d(16, 8, (4, 4), stride=(1, 1), padding=\"same\", bias=False),\n",
    "#             nn.LeakyReLU(negative_slope=0.01),\n",
    "            \n",
    "            nn.Conv2d(16, 1, (4, 4), stride=(1, 1), padding=\"same\", bias=False),\n",
    "            \n",
    "        )\n",
    "    def forward(self, x):\n",
    "        \n",
    "        x = self.net1(x)\n",
    "        x = x.reshape(-1, int(num_input), int(w0), int(h0))\n",
    "        x = self.net2(x)\n",
    "        return x\n"
   ]
  },
  {
   "cell_type": "code",
   "execution_count": null,
   "id": "61826c11",
   "metadata": {},
   "outputs": [],
   "source": []
  },
  {
   "cell_type": "code",
   "execution_count": 3,
   "id": "9b8ae589",
   "metadata": {},
   "outputs": [],
   "source": [
    "import torch.nn.functional as F\n",
    "def staggeredfd_py_cuda(\n",
    "    inputs,\n",
    "    temp,\n",
    "    ca,       \n",
    "    cl,       \n",
    "    cm,       \n",
    "    cm1,        \n",
    "    b,      \n",
    "    b1,      \n",
    "    s):\n",
    "    nt = int(inputs[0])\n",
    "    nzbc = int(inputs[1])\n",
    "    nxbc = int(inputs[2])\n",
    "    dtx = float(inputs[3])\n",
    "    ng = int(inputs[4])\n",
    "    sz = int(inputs[5]);sz = sz - 1;\n",
    "    sx = int(inputs[6]);sx = sx - 1;\n",
    "    gz = int(inputs[7]);gz = gz - 1;\n",
    "    gx = int(inputs[8]);gx = gx - 1;\n",
    "    dg = int(inputs[9])\n",
    "    source_type_num = int(inputs[10])\n",
    "    fd_order_num = int(inputs[11])\n",
    "    number_elements = nt*ng\n",
    "    length_geophone = ng*dg\n",
    "    nt_interval = int(inputs[12])\n",
    "    nz = int(inputs[13])\n",
    "    nx = int(inputs[14])\n",
    "    format_num = int(inputs[15])\n",
    "    nbc = (nxbc-nx)/2\n",
    "    num_nt_record = nt//nt_interval\n",
    "    wavefield_elements = num_nt_record*nx*nz\n",
    "\n",
    "\n",
    "    #   Input variables from python numpy: temp ca cl cm b s\n",
    "    # libtorch Initialising input variables: uu, ww, xx, xz, zz\n",
    "    uu = torch.zeros((nzbc,nxbc), dtype=torch.float32, device=torch.device('cuda', 0))\n",
    "    ww = torch.zeros((nzbc,nxbc), dtype=torch.float32, device=torch.device('cuda', 0))\n",
    "    xx = torch.zeros((nzbc,nxbc), dtype=torch.float32, device=torch.device('cuda', 0))\n",
    "    xz = torch.zeros((nzbc,nxbc), dtype=torch.float32, device=torch.device('cuda', 0))\n",
    "    zz = torch.zeros((nzbc,nxbc), dtype=torch.float32, device=torch.device('cuda', 0))\n",
    "    #  libtorch Initialising input variables: fux, fuz, bwx, bwz\n",
    "    fux = torch.zeros((nzbc,nxbc), dtype=torch.float32, device=torch.device('cuda', 0))\n",
    "    fuz = torch.zeros((nzbc,nxbc), dtype=torch.float32, device=torch.device('cuda', 0))\n",
    "    bwx = torch.zeros((nzbc,nxbc), dtype=torch.float32, device=torch.device('cuda', 0))\n",
    "    bwz = torch.zeros((nzbc,nxbc), dtype=torch.float32, device=torch.device('cuda', 0))\n",
    "    #  libtorch Initialising output variables: seismo_w, seismo_u       \n",
    "    seismo_w = torch.zeros((nt,ng), dtype=torch.float32, device=torch.device('cuda', 0))\n",
    "    seismo_u = torch.zeros((nt,ng), dtype=torch.float32, device=torch.device('cuda', 0))\n",
    "\n",
    "    wavefield_gradient_fux = torch.zeros((nz,nx*num_nt_record), dtype=torch.float32, device=torch.device('cuda', 0))\n",
    "    wavefield_gradient_fuz = torch.zeros((nz,nx*num_nt_record), dtype=torch.float32, device=torch.device('cuda', 0))\n",
    "    wavefield_gradient_bwx = torch.zeros((nz,nx*num_nt_record), dtype=torch.float32, device=torch.device('cuda', 0))\n",
    "    wavefield_gradient_bwz = torch.zeros((nz,nx*num_nt_record), dtype=torch.float32, device=torch.device('cuda', 0))\n",
    "\n",
    "    #  libtorch zero_vector for free surface zz\n",
    "    zero_vector = torch.zeros((1,nxbc), dtype=torch.float32, device=torch.device('cuda', 0))\n",
    "    geophone_vector = torch.zeros((1,nxbc), dtype=torch.float32, device=torch.device('cuda', 0))\n",
    "\n",
    "    if fd_order_num==22 :\n",
    "        k = nzbc-2; i = nxbc-2; pad_top = 1;\n",
    "    elif fd_order_num==24 :\n",
    "        k = nzbc-4; i = nxbc-4; pad_top = 2;\n",
    "    elif fd_order_num==26 :\n",
    "        k = nzbc-6; i = nxbc-6; pad_top = 3;\n",
    "    elif fd_order_num==28 :\n",
    "        k = nzbc-8; i = nxbc-8; pad_top = 4;\n",
    "    S41 = 1.1250;S42 = -0.0416666667;S61 = 1.17187;S62 = -6.51042E-2;S63 = 4.68750E-3;S81 = 1.19629;S82 = -7.97526E-2;S83 = 9.57031E-3;S84 = -6.97545E-4;\n",
    "\n",
    "    for it in range(nt) :\n",
    "        if  fd_order_num == 22 :\n",
    "            uu = F.pad((temp[1:1+k, 1:1+i]*(uu[1:1+k, 1:1+i]) + b[1:1+k, 1:1+i]*(  \\\n",
    "                    xx[1:1+k, 1+1:1+1+i] - xx[1:1+k, 1:1+i] + xz[1:1+k, 1:1+i] - xz[1-1:1-1+k, 1:1+i])), [1, 1, 1, 1])   \n",
    "            ww = F.pad((temp[1:1+k, 1:1+i]*(ww[1:1+k, 1:1+i]) + b1[1:1+k, 1:1+i]*(  \\\n",
    "                    xz[1:1+k, 1:1+i] - xz[1:1+k, 1-1:1-1+i] + zz[1+1:1+1+k, 1:1+i] - zz[1:1+k, 1:1+i])), [1, 1, 1, 1])         \n",
    "        \n",
    "        if source_type_num == 5:\n",
    "            ww[sz,sx]=s[it]\n",
    "        \n",
    "        if fd_order_num == 22 :\n",
    "            fux = F.pad((uu[1:1+k, 1:1+i] - uu[1:1+k, 1-1:1-1+i]), [1, 1, 1, 1])   \n",
    "            fuz = F.pad((uu[1+1:1+1+k, 1:1+i] - uu[1:1+k, 1:1+i]), [1, 1, 1, 1])   \n",
    "            bwx = F.pad((ww[1:1+k, 1+1:1+1+i] - ww[1:1+k, 1:1+i]), [1, 1, 1, 1])   \n",
    "            bwz = F.pad((ww[1:1+k, 1:1+i] - ww[1-1:1-1+k, 1:1+i]), [1, 1, 1, 1])   \n",
    "            \n",
    "        xx=temp * (xx) + (ca * (fux) + cl * (bwz))*dtx\n",
    "        zz=temp * (zz) + (ca * (bwz) + cl * (fux))*dtx\n",
    "        xz=temp * (xz) + (cm1 * (fuz + bwx))*dtx\n",
    "\n",
    "#         zz[pad_top,:]=0.0\n",
    "\n",
    "        seismo_w[it, :] = ww[gz,gx:gx+length_geophone-1:2]\n",
    "\n",
    "        seismo_u[it, :] = uu[gz,gx:gx+length_geophone-1:2]\n",
    "#         if(it%nt_interval==0):\n",
    "#             wavefield_gradient_fux[:, nx*it//nt_interval:nx*it//nt_interval + nx]=fux[pad_top+1:pad_top+1+nz, nbc:nbc + nx]\n",
    "#             wavefield_gradient_fuz[:, nx*it//nt_interval:nx*it//nt_interval + nx]=fuz[pad_top+1:pad_top+1+nz, nbc:nbc + nx]\n",
    "#             wavefield_gradient_bwx[:, nx*it//nt_interval:nx*it//nt_interval + nx]=bwx[pad_top+1:pad_top+1+nz, nbc:nbc + nx]\n",
    "#             wavefield_gradient_bwz[:, nx*it//nt_interval:nx*it//nt_interval + nx]=bwz[pad_top+1:pad_top+1+nz, nbc:nbc + nx]  \n",
    "\n",
    "\n",
    "    return seismo_u,seismo_w"
   ]
  },
  {
   "cell_type": "code",
   "execution_count": 4,
   "id": "a0086b84",
   "metadata": {
    "scrolled": false
   },
   "outputs": [
    {
     "name": "stdout",
     "output_type": "stream",
     "text": [
      "s\n",
      "ca\n",
      "cm\n",
      "cl\n",
      "temp\n",
      "cm1\n",
      "b\n",
      "b1\n",
      "input_vector\n",
      "vs\n"
     ]
    }
   ],
   "source": [
    "import numpy as np\n",
    "import scipy.io as sio\n",
    "dummy_input = sio.loadmat('dummy_input.mat')\n",
    "for dummy_input_key in list(dummy_input.keys())[3:]:\n",
    "    print(dummy_input_key)\n",
    "    exec(dummy_input_key + '=dummy_input[\"' + dummy_input_key + '\"].astype(np.float32)')\n",
    "    exec(dummy_input_key + '=torch.from_numpy(' + dummy_input_key + ').to(\"cuda\")')\n",
    "#     exec(dummy_input_key + '=torch.from_numpy(' + dummy_input_key + ')')\n",
    "tempmat = sio.loadmat('tempmat.mat')\n",
    "temp = tempmat['temp'].astype(np.float32)\n",
    "temp = torch.from_numpy(temp)\n",
    "# geo_l = np.array([range(40,159,2)]).astype(np.float32)\n",
    "# input_vector = input_vector.reshape(-1, 1)\n",
    "# geo_l = torch.from_numpy(geo_l.reshape(-1, 1)).to(\"cuda\")\n",
    "# import sys\n",
    "# sys.path.append('/home/user/.vscode/eigen_staggerfd_2py/')\n",
    "# import eigen_staggerfd_2py\n",
    "# [uu,ww]=eigen_staggerfd_2py.staggeredfd(input_vector,temp,ca,cl,cm,cm1,b,b1,s,geo_l)\n",
    "# input_vector: [nt,nzbc,nxbc,dtx,ng,sz,sx,gz(1),gx(1),gx(2)-gx(1),source_type_num,fd_order_num,in_wf,nz,nx,format_num];\n",
    "# [uu,ww]=staggerfd.forward(input_vector,temp,ca,cl,cm,cm1,b,b1,s)\n",
    "# for gg in range(1,60,8):\n",
    "#     input_vector[6] = geo_l[gg]\n",
    "#     [uu,wwt]=staggerfd.forward(input_vector,temp,ca,cl,cm,cm1,b,b1,s)\n",
    "#     print(gg)\n",
    "#     exec('wwt' + str(gg) + '=wwt')"
   ]
  },
  {
   "cell_type": "code",
   "execution_count": 5,
   "id": "da64b526",
   "metadata": {},
   "outputs": [],
   "source": [
    "import torch\n",
    "import staggerfd\n",
    "import staggerfd_cuda\n",
    "import staggerfd_cuda1"
   ]
  },
  {
   "cell_type": "code",
   "execution_count": null,
   "id": "e37867b1",
   "metadata": {},
   "outputs": [],
   "source": []
  },
  {
   "cell_type": "code",
   "execution_count": 6,
   "id": "afb1c08b",
   "metadata": {},
   "outputs": [],
   "source": [
    "#参数设置\n",
    "# model1=torch.zeros([26,120])\n",
    "# model1[0:12,:]=1000\n",
    "# model1[12:26,:]=2500    #普通测试模型\n",
    "model_list = sio.loadmat('low_vel.mat')\n",
    "vp_RM = torch.from_numpy(model_list['vp'].astype('float32'))\n",
    "vs_RM = torch.from_numpy(model_list['vs'].astype('float32'))\n",
    "# vp_RM = model1\n",
    "[nz,nx]=vp_RM.shape  #nz：深度网格点数，nx测线方向网格点数\n",
    "nbc=40                  #吸收边界长\n",
    "dx=1                    #一网格点对应深度\n",
    "dt=dx/torch.max(vp_RM)*0.5  #公式\n",
    "# nt=torch.floor(nx*dx/torch.min(vp_RM)/dt+300) #公式，不能过短\n",
    "nt=1100\n",
    "\n",
    "#ricker\n",
    "#[s,~]=ricker(fr,dt,nt)\n",
    "fr=30              #频率\n",
    "# nw=2.2/fr/dt         #2.2？？？\n",
    "# nw=2*torch.floor(nw/2)+1\n",
    "# nc=torch.floor(nw/2)\n",
    "# k=torch.arange(1,nw,1)\n",
    "# alpha = (nc-k+1)*fr*dt*torch.pi\n",
    "# beta=alpha**2\n",
    "# w0 = (1.-beta**2)*torch.exp(-beta)  #ricker子波\n",
    "# s=torch.zeros((nt))\n",
    "# s[0:w0.numel()]=w0\n",
    "########\n",
    "pad_top = 2\n",
    "nbc = 40\n",
    "ds=8\n",
    "sx=torch.arange(0,nx,ds)\n",
    "sz=torch.zeros(sx.shape)+1      #炮点位置\n",
    "ns=sx.numel()\n",
    "dg=2\n",
    "gx=torch.arange(0,nx,dg)\n",
    "ng=gx.numel()\n",
    "gz=torch.zeros(gx.shape)+1\n",
    "isFS=1\n",
    "sx=sx+nbc\n",
    "sz=sz+pad_top-1\n",
    "gx=gx+nbc\n",
    "gz=gz+pad_top-1\n",
    "seismo_v_d=torch.zeros((ns,nt,ng)).to('cuda')\n"
   ]
  },
  {
   "cell_type": "code",
   "execution_count": null,
   "id": "38b02ad6",
   "metadata": {},
   "outputs": [],
   "source": []
  },
  {
   "cell_type": "code",
   "execution_count": 7,
   "id": "7f3c76cc",
   "metadata": {},
   "outputs": [],
   "source": [
    "x = torch.rand(size=(1, 8)).requires_grad_(True)\n",
    "vmax=torch.max(vp_RM)\n",
    "vmin=torch.min(vp_RM)\n",
    "[nz,nx] = vp_RM.shape\n",
    "asd = torch.linspace(vmin,vmax,nz).view(-1,1)\n",
    "vp0 = asd.repeat(1,nx)\n",
    "vs0 = vs_RM\n",
    "num_layer=4\n",
    "num_input = 8\n",
    "w0=int(np.ceil(vp0.shape[0]/(2**num_layer)))\n",
    "h0=int(np.ceil(vp0.shape[1]/(2**num_layer)))\n",
    "torch.set_printoptions(precision=10)\n",
    "maxline = vmax*torch.ones_like(vp0)\n",
    "minline = vmin*torch.ones_like(vp0)"
   ]
  },
  {
   "cell_type": "code",
   "execution_count": 8,
   "id": "51ac0746",
   "metadata": {},
   "outputs": [],
   "source": [
    "\n",
    "dtx = 0.0002\n",
    "den = pad(torch.ones((nz,nx)),nbc,pad_top)\n",
    "vp1 = pad(vp0,nbc,pad_top)\n",
    "vs0 = pad(vs0,nbc,pad_top)\n",
    "ca=torch.mul(vp1**2,den)\n",
    "cm=torch.mul((vs0**2),den)\n",
    "cl=ca - 2*cm\n",
    "# temp = pad(temp,nbc,pad_top)\n",
    "\n",
    "den[0:pad_top,:] = 0.5*den[0:pad_top,:]\n",
    "den1=den\n",
    "den1[pad_top-1,:]=2*den1[pad_top-1,:]\n",
    "cm[0:pad_top,:]=0.5*cm[0:pad_top,:]\n",
    "cm1=cm;\n",
    "cl[0:pad_top-1,:]=0.0;\n",
    "cm1[pad_top-1,:]=2*cm1[pad_top-1,:]\n",
    "ca=cl + 2*cm\n",
    "b=dtx*torch.reciprocal(den)\n",
    "b1=dtx*torch.reciprocal(den1)\n",
    "nzbc = nz + nbc + pad_top\n",
    "nxbc = nx + nbc + nbc\n",
    "source_type_num = 5\n",
    "fd_order_num = 22\n",
    "in_wf = 1\n",
    "format_num = 2\n",
    "# input_vector: [nt,nzbc,nxbc,dtx,ng,sz,sx,gz(1),gx(1),gx(2)-gx(1),source_type_num,fd_order_num,in_wf,nz,nx,format_num];\n"
   ]
  },
  {
   "cell_type": "code",
   "execution_count": 9,
   "id": "d6bb9405",
   "metadata": {},
   "outputs": [],
   "source": [
    "input_vector = torch.tensor([nt,nzbc,nxbc,dtx,ng,int(sz[0]),int(sx[0]),int(gz[0]),int(gx[0]),int(gx[1]-gx[0]), \\\n",
    "                             source_type_num,fd_order_num,in_wf,nz,nx,format_num])"
   ]
  },
  {
   "cell_type": "code",
   "execution_count": 10,
   "id": "35f44475",
   "metadata": {},
   "outputs": [
    {
     "data": {
      "text/plain": [
       "180"
      ]
     },
     "execution_count": 10,
     "metadata": {},
     "output_type": "execute_result"
    }
   ],
   "source": [
    "nx"
   ]
  },
  {
   "cell_type": "code",
   "execution_count": 11,
   "id": "2b1b1c11",
   "metadata": {},
   "outputs": [],
   "source": [
    "model = NN(8, w0, h0, vmax, vmin)"
   ]
  },
  {
   "cell_type": "code",
   "execution_count": 12,
   "id": "3e83e12b",
   "metadata": {},
   "outputs": [
    {
     "name": "stdout",
     "output_type": "stream",
     "text": [
      "vp_RM\n",
      "s\n",
      "sx\n",
      "sz\n",
      "gx\n",
      "gz\n",
      "x\n",
      "vp0 \n",
      "maxline\n",
      "minline\n",
      "vs0\n",
      "den\n",
      "input_vector\n",
      "temp\n"
     ]
    },
    {
     "data": {
      "text/plain": [
       "NN(\n",
       "  (net1): Sequential(\n",
       "    (0): Linear(in_features=8, out_features=288, bias=False)\n",
       "    (1): ReLU()\n",
       "  )\n",
       "  (net2): Sequential(\n",
       "    (0): UpsamplingBilinear2d(scale_factor=2.0, mode=bilinear)\n",
       "    (1): Conv2d(8, 128, kernel_size=(4, 4), stride=(1, 1), padding=same, bias=False)\n",
       "    (2): LeakyReLU(negative_slope=0.01)\n",
       "    (3): UpsamplingBilinear2d(scale_factor=2.0, mode=bilinear)\n",
       "    (4): Conv2d(128, 64, kernel_size=(4, 4), stride=(1, 1), padding=same, bias=False)\n",
       "    (5): LeakyReLU(negative_slope=0.01)\n",
       "    (6): UpsamplingBilinear2d(scale_factor=2.0, mode=bilinear)\n",
       "    (7): Conv2d(64, 32, kernel_size=(4, 4), stride=(1, 1), padding=same, bias=False)\n",
       "    (8): LeakyReLU(negative_slope=0.01)\n",
       "    (9): UpsamplingBilinear2d(scale_factor=2.0, mode=bilinear)\n",
       "    (10): Conv2d(32, 16, kernel_size=(4, 4), stride=(1, 1), padding=same, bias=False)\n",
       "    (11): LeakyReLU(negative_slope=0.01)\n",
       "    (12): Conv2d(16, 1, kernel_size=(4, 4), stride=(1, 1), padding=same, bias=False)\n",
       "  )\n",
       ")"
      ]
     },
     "execution_count": 12,
     "metadata": {},
     "output_type": "execute_result"
    }
   ],
   "source": [
    "for le in ['vp_RM','s','sx','sz','gx','gz','x','vp0 ','maxline','minline','vs0','den','input_vector','temp']:\n",
    "    print(le)\n",
    "    exec(le + '=' + le + '.to(\"cuda:0\")')\n",
    "model.to(\"cuda:0\")"
   ]
  },
  {
   "cell_type": "code",
   "execution_count": 13,
   "id": "4d343f95",
   "metadata": {},
   "outputs": [],
   "source": [
    "vp1 = pad(vp_RM,nbc,pad_top)\n",
    "ca=torch.mul(vp1**2,den)\n",
    "cm=torch.mul((vs0**2),den)\n",
    "cl=ca - 2*cm\n",
    "den[0:pad_top,:] = 0.5*den[0:pad_top,:]\n",
    "den1=den\n",
    "den1[pad_top-1,:]=2*den1[pad_top-1,:]\n",
    "cm[0:pad_top,:]=0.5*cm[0:pad_top,:]\n",
    "cm1=cm;\n",
    "cl[0:pad_top-1,:]=0.0;\n",
    "cm1[pad_top-1,:]=2*cm1[pad_top-1,:]\n",
    "ca=cl + 2*cm\n",
    "b=dtx*torch.reciprocal(den)\n",
    "b1=dtx*torch.reciprocal(den1)\n",
    "input_vector[6] = (sx[0])\n",
    "[seismo_u,seismo_w]=staggeredfd_py_cuda(input_vector,temp,ca,cl,cm,cm1,b,b1,s)\n",
    "# [seismo_u,seismo_w]=staggerfd_cuda1.forward(input_vector,temp,ca,cl,cm,cm1,b,b1,s)"
   ]
  },
  {
   "cell_type": "code",
   "execution_count": 14,
   "id": "91ba7024",
   "metadata": {},
   "outputs": [
    {
     "data": {
      "text/plain": [
       "1100"
      ]
     },
     "execution_count": 14,
     "metadata": {},
     "output_type": "execute_result"
    }
   ],
   "source": [
    "seismo_w._version\n"
   ]
  },
  {
   "cell_type": "code",
   "execution_count": null,
   "id": "d95bd7b7",
   "metadata": {},
   "outputs": [],
   "source": []
  },
  {
   "cell_type": "code",
   "execution_count": 15,
   "id": "5d28dc15",
   "metadata": {
    "scrolled": true
   },
   "outputs": [
    {
     "name": "stdout",
     "output_type": "stream",
     "text": [
      "0\n",
      "1\n",
      "2\n",
      "3\n",
      "4\n",
      "5\n",
      "6\n",
      "7\n",
      "8\n",
      "9\n",
      "10\n",
      "11\n",
      "12\n",
      "13\n",
      "14\n",
      "15\n",
      "16\n",
      "17\n",
      "18\n",
      "19\n",
      "20\n",
      "21\n",
      "22\n"
     ]
    }
   ],
   "source": [
    "for i in range(ns):\n",
    "#% display(['Synthetic data, shot is=',num2str(is),' ns=',num2str(ns)]);\n",
    "\n",
    "        vp1 = pad(vp_RM,nbc,pad_top)\n",
    "        ca=torch.mul(vp1**2,den)\n",
    "        cm=torch.mul((vs0**2),den)\n",
    "        cl=ca - 2*cm\n",
    "        den[0:pad_top,:] = 0.5*den[0:pad_top,:]\n",
    "        den1=den\n",
    "        den1[pad_top-1,:]=2*den1[pad_top-1,:]\n",
    "        cm[0:pad_top,:]=0.5*cm[0:pad_top,:]\n",
    "        cm1=cm;\n",
    "        cl[0:pad_top-1,:]=0.0;\n",
    "        cm1[pad_top-1,:]=2*cm1[pad_top-1,:]\n",
    "        ca=cl + 2*cm\n",
    "        b=dtx*torch.reciprocal(den)\n",
    "        b1=dtx*torch.reciprocal(den1)\n",
    "        input_vector[6] = (sx[i])\n",
    "        print(i)\n",
    "        [uu,seismo_v_d[i,:,:]]=staggeredfd_py_cuda(input_vector,temp,ca,cl,cm,cm1,b,b1,s)"
   ]
  },
  {
   "cell_type": "code",
   "execution_count": 16,
   "id": "614dae23",
   "metadata": {},
   "outputs": [
    {
     "data": {
      "text/plain": [
       "device(type='cuda', index=0)"
      ]
     },
     "execution_count": 16,
     "metadata": {},
     "output_type": "execute_result"
    }
   ],
   "source": [
    "seismo_v_d.device"
   ]
  },
  {
   "cell_type": "code",
   "execution_count": 17,
   "id": "c5f982fc",
   "metadata": {},
   "outputs": [
    {
     "data": {
      "text/plain": [
       "tensor([-798.2498168945,  798.2498168945], dtype=torch.float64)"
      ]
     },
     "execution_count": 17,
     "metadata": {},
     "output_type": "execute_result"
    }
   ],
   "source": [
    "vvmax = vmax-vmin\n",
    "vvmin = vmin-vmax\n",
    "((vvmax - vvmin) * np.array([-1,1]) + (vvmax + vvmin))/2.0"
   ]
  },
  {
   "cell_type": "code",
   "execution_count": 18,
   "id": "2839f8ad",
   "metadata": {},
   "outputs": [
    {
     "data": {
      "text/plain": [
       "NN(\n",
       "  (net1): Sequential(\n",
       "    (0): Linear(in_features=8, out_features=288, bias=False)\n",
       "    (1): ReLU()\n",
       "  )\n",
       "  (net2): Sequential(\n",
       "    (0): UpsamplingBilinear2d(scale_factor=2.0, mode=bilinear)\n",
       "    (1): Conv2d(8, 128, kernel_size=(4, 4), stride=(1, 1), padding=same, bias=False)\n",
       "    (2): LeakyReLU(negative_slope=0.01)\n",
       "    (3): UpsamplingBilinear2d(scale_factor=2.0, mode=bilinear)\n",
       "    (4): Conv2d(128, 64, kernel_size=(4, 4), stride=(1, 1), padding=same, bias=False)\n",
       "    (5): LeakyReLU(negative_slope=0.01)\n",
       "    (6): UpsamplingBilinear2d(scale_factor=2.0, mode=bilinear)\n",
       "    (7): Conv2d(64, 32, kernel_size=(4, 4), stride=(1, 1), padding=same, bias=False)\n",
       "    (8): LeakyReLU(negative_slope=0.01)\n",
       "    (9): UpsamplingBilinear2d(scale_factor=2.0, mode=bilinear)\n",
       "    (10): Conv2d(32, 16, kernel_size=(4, 4), stride=(1, 1), padding=same, bias=False)\n",
       "    (11): LeakyReLU(negative_slope=0.01)\n",
       "    (12): Conv2d(16, 1, kernel_size=(4, 4), stride=(1, 1), padding=same, bias=False)\n",
       "  )\n",
       ")"
      ]
     },
     "execution_count": 18,
     "metadata": {},
     "output_type": "execute_result"
    }
   ],
   "source": [
    "import math\n",
    "def weights_init(m):\n",
    "    classname = m.__class__.__name__\n",
    "\n",
    "    if classname.find('Conv2d') != -1:\n",
    "#         fan_in, _ = torch.nn.init._calculate_fan_in_and_fan_out(m.weight)\n",
    "#         bound = 1 / math.sqrt(fan_in) if fan_in > 0 else 0\n",
    "#         torch.nn.init.kaiming_uniform_(m.weight.data,a=math.sqrt(50))\n",
    "        torch.nn.init.xavier_normal_(m.weight.data)\n",
    "#         torch.nn.init.constant_(m.bias.data, 0.0)\n",
    "    elif classname.find('Linear') != -1:\n",
    "#         fan_in, _ = torch.nn.init._calculate_fan_in_and_fan_out(m.weight)\n",
    "#         bound = 1 / math.sqrt(fan_in) if fan_in > 0 else 0\n",
    "#         torch.nn.init.kaiming_uniform_(m.weight.data,a=math.sqrt(50))\n",
    "#         torch.nn.init.uniform_(m.bias.data, -bound, bound)\n",
    "        torch.nn.init.xavier_normal_(m.weight.data)\n",
    "model.apply(weights_init)"
   ]
  },
  {
   "cell_type": "code",
   "execution_count": 19,
   "id": "94f0519b",
   "metadata": {},
   "outputs": [],
   "source": [
    "criteon = nn.MSELoss()\n",
    "optimizer = optim.Adam(model.parameters(),lr = 1e-3)\n",
    "# optimizer = optim.Adagrad(model.parameters())"
   ]
  },
  {
   "cell_type": "code",
   "execution_count": 20,
   "id": "fb723811",
   "metadata": {},
   "outputs": [
    {
     "data": {
      "text/plain": [
       "<All keys matched successfully>"
      ]
     },
     "execution_count": 20,
     "metadata": {},
     "output_type": "execute_result"
    }
   ],
   "source": [
    "pretrained_weights = torch.load('./my_model_low.pth')\n",
    "model.load_state_dict(pretrained_weights)"
   ]
  },
  {
   "cell_type": "code",
   "execution_count": 21,
   "id": "935c5139",
   "metadata": {},
   "outputs": [
    {
     "data": {
      "text/plain": [
       "<torch.autograd.anomaly_mode.set_detect_anomaly at 0x7f7dd3576df0>"
      ]
     },
     "execution_count": 21,
     "metadata": {},
     "output_type": "execute_result"
    }
   ],
   "source": [
    "torch.autograd.set_detect_anomaly(True)"
   ]
  },
  {
   "cell_type": "code",
   "execution_count": 22,
   "id": "137881f7",
   "metadata": {},
   "outputs": [
    {
     "data": {
      "text/plain": [
       "tensor([[834.4359741211, 834.4359741211, 834.4359741211,  ...,\n",
       "         834.4359741211, 834.4359741211, 834.4359741211],\n",
       "        [834.4359741211, 834.4359741211, 834.4359741211,  ...,\n",
       "         834.4359741211, 834.4359741211, 834.4359741211],\n",
       "        [834.4359741211, 834.4359741211, 834.4359741211,  ...,\n",
       "         834.4359741211, 834.4359741211, 834.4359741211],\n",
       "        ...,\n",
       "        [834.4359741211, 834.4359741211, 834.4359741211,  ...,\n",
       "         834.4359741211, 834.4359741211, 834.4359741211],\n",
       "        [834.4359741211, 834.4359741211, 834.4359741211,  ...,\n",
       "         834.4359741211, 834.4359741211, 834.4359741211],\n",
       "        [834.4359741211, 834.4359741211, 834.4359741211,  ...,\n",
       "         834.4359741211, 834.4359741211, 834.4359741211]], device='cuda:0')"
      ]
     },
     "execution_count": 22,
     "metadata": {},
     "output_type": "execute_result"
    }
   ],
   "source": [
    "minline"
   ]
  },
  {
   "cell_type": "code",
   "execution_count": 24,
   "id": "3053826e",
   "metadata": {
    "scrolled": true
   },
   "outputs": [
    {
     "name": "stderr",
     "output_type": "stream",
     "text": [
      "/home/user/anaconda3/lib/python3.8/site-packages/torch/nn/modules/conv.py:442: UserWarning: Using padding='same' with even kernel lengths and odd dilation may require a zero-padded copy of the input be created (Triggered internally at  ../aten/src/ATen/native/Convolution.cpp:647.)\n",
      "  return F.conv2d(input, weight, bias, self.stride,\n"
     ]
    },
    {
     "name": "stdout",
     "output_type": "stream",
     "text": [
      "tensor(7.2385466865e-07, device='cuda:0', grad_fn=<MseLossBackward0>)\n",
      "step\n"
     ]
    },
    {
     "name": "stderr",
     "output_type": "stream",
     "text": [
      "[W python_anomaly_mode.cpp:104] Warning: Error detected in torch::autograd::CopySlices. Traceback of forward call that caused the error:\n",
      "  File \"/home/user/anaconda3/lib/python3.8/runpy.py\", line 194, in _run_module_as_main\n",
      "    return _run_code(code, main_globals, None,\n",
      "  File \"/home/user/anaconda3/lib/python3.8/runpy.py\", line 87, in _run_code\n",
      "    exec(code, run_globals)\n",
      "  File \"/home/user/.local/lib/python3.8/site-packages/ipykernel_launcher.py\", line 16, in <module>\n",
      "    app.launch_new_instance()\n",
      "  File \"/home/user/.local/lib/python3.8/site-packages/traitlets/config/application.py\", line 845, in launch_instance\n",
      "    app.start()\n",
      "  File \"/home/user/.local/lib/python3.8/site-packages/ipykernel/kernelapp.py\", line 667, in start\n",
      "    self.io_loop.start()\n",
      "  File \"/home/user/.local/lib/python3.8/site-packages/tornado/platform/asyncio.py\", line 199, in start\n",
      "    self.asyncio_loop.run_forever()\n",
      "  File \"/home/user/anaconda3/lib/python3.8/asyncio/base_events.py\", line 570, in run_forever\n",
      "    self._run_once()\n",
      "  File \"/home/user/anaconda3/lib/python3.8/asyncio/base_events.py\", line 1859, in _run_once\n",
      "    handle._run()\n",
      "  File \"/home/user/anaconda3/lib/python3.8/asyncio/events.py\", line 81, in _run\n",
      "    self._context.run(self._callback, *self._args)\n",
      "  File \"/home/user/.local/lib/python3.8/site-packages/ipykernel/kernelbase.py\", line 456, in dispatch_queue\n",
      "    await self.process_one()\n",
      "  File \"/home/user/.local/lib/python3.8/site-packages/ipykernel/kernelbase.py\", line 445, in process_one\n",
      "    await dispatch(*args)\n",
      "  File \"/home/user/.local/lib/python3.8/site-packages/ipykernel/kernelbase.py\", line 352, in dispatch_shell\n",
      "    await result\n",
      "  File \"/home/user/.local/lib/python3.8/site-packages/ipykernel/kernelbase.py\", line 647, in execute_request\n",
      "    reply_content = await reply_content\n",
      "  File \"/home/user/.local/lib/python3.8/site-packages/ipykernel/ipkernel.py\", line 345, in do_execute\n",
      "    res = shell.run_cell(code, store_history=store_history, silent=silent)\n",
      "  File \"/home/user/.local/lib/python3.8/site-packages/ipykernel/zmqshell.py\", line 532, in run_cell\n",
      "    return super(ZMQInteractiveShell, self).run_cell(*args, **kwargs)\n",
      "  File \"/home/user/.local/lib/python3.8/site-packages/IPython/core/interactiveshell.py\", line 2898, in run_cell\n",
      "    result = self._run_cell(\n",
      "  File \"/home/user/.local/lib/python3.8/site-packages/IPython/core/interactiveshell.py\", line 2944, in _run_cell\n",
      "    return runner(coro)\n",
      "  File \"/home/user/.local/lib/python3.8/site-packages/IPython/core/async_helpers.py\", line 68, in _pseudo_sync_runner\n",
      "    coro.send(None)\n",
      "  File \"/home/user/.local/lib/python3.8/site-packages/IPython/core/interactiveshell.py\", line 3169, in run_cell_async\n",
      "    has_raised = await self.run_ast_nodes(code_ast.body, cell_name,\n",
      "  File \"/home/user/.local/lib/python3.8/site-packages/IPython/core/interactiveshell.py\", line 3361, in run_ast_nodes\n",
      "    if (await self.run_code(code, result,  async_=asy)):\n",
      "  File \"/home/user/.local/lib/python3.8/site-packages/IPython/core/interactiveshell.py\", line 3441, in run_code\n",
      "    exec(code_obj, self.user_global_ns, self.user_ns)\n",
      "  File \"/tmp/ipykernel_4008808/3353665895.py\", line 32, in <module>\n",
      "    [seismo_u,seismo_w[gg,:,:]]=staggeredfd_py_cuda(input_vector,temp,ca,cl,cm,cm1,b,b1,s)\n",
      " (function _print_stack)\n"
     ]
    },
    {
     "ename": "RuntimeError",
     "evalue": "Trying to backward through the graph a second time (or directly access saved tensors after they have already been freed). Saved intermediate values of the graph are freed when you call .backward() or autograd.grad(). Specify retain_graph=True if you need to backward through the graph a second time or if you need to access saved tensors after calling backward.",
     "output_type": "error",
     "traceback": [
      "\u001b[0;31m---------------------------------------------------------------------------\u001b[0m",
      "\u001b[0;31mRuntimeError\u001b[0m                              Traceback (most recent call last)",
      "\u001b[0;32m/tmp/ipykernel_4008808/3353665895.py\u001b[0m in \u001b[0;36m<module>\u001b[0;34m\u001b[0m\n\u001b[1;32m     32\u001b[0m         \u001b[0;34m[\u001b[0m\u001b[0mseismo_u\u001b[0m\u001b[0;34m,\u001b[0m\u001b[0mseismo_w\u001b[0m\u001b[0;34m[\u001b[0m\u001b[0mgg\u001b[0m\u001b[0;34m,\u001b[0m\u001b[0;34m:\u001b[0m\u001b[0;34m,\u001b[0m\u001b[0;34m:\u001b[0m\u001b[0;34m]\u001b[0m\u001b[0;34m]\u001b[0m\u001b[0;34m=\u001b[0m\u001b[0mstaggeredfd_py_cuda\u001b[0m\u001b[0;34m(\u001b[0m\u001b[0minput_vector\u001b[0m\u001b[0;34m,\u001b[0m\u001b[0mtemp\u001b[0m\u001b[0;34m,\u001b[0m\u001b[0mca\u001b[0m\u001b[0;34m,\u001b[0m\u001b[0mcl\u001b[0m\u001b[0;34m,\u001b[0m\u001b[0mcm\u001b[0m\u001b[0;34m,\u001b[0m\u001b[0mcm1\u001b[0m\u001b[0;34m,\u001b[0m\u001b[0mb\u001b[0m\u001b[0;34m,\u001b[0m\u001b[0mb1\u001b[0m\u001b[0;34m,\u001b[0m\u001b[0ms\u001b[0m\u001b[0;34m)\u001b[0m\u001b[0;34m\u001b[0m\u001b[0;34m\u001b[0m\u001b[0m\n\u001b[1;32m     33\u001b[0m     \u001b[0mloss\u001b[0m \u001b[0;34m=\u001b[0m \u001b[0mcriteon\u001b[0m\u001b[0;34m(\u001b[0m\u001b[0mseismo_w\u001b[0m\u001b[0;34m.\u001b[0m\u001b[0mreshape\u001b[0m\u001b[0;34m(\u001b[0m\u001b[0;34m-\u001b[0m\u001b[0;36m1\u001b[0m\u001b[0;34m,\u001b[0m\u001b[0;36m1\u001b[0m\u001b[0;34m)\u001b[0m\u001b[0;34m,\u001b[0m \u001b[0mseismo_v_d\u001b[0m\u001b[0;34m.\u001b[0m\u001b[0mreshape\u001b[0m\u001b[0;34m(\u001b[0m\u001b[0;34m-\u001b[0m\u001b[0;36m1\u001b[0m\u001b[0;34m,\u001b[0m\u001b[0;36m1\u001b[0m\u001b[0;34m)\u001b[0m\u001b[0;34m)\u001b[0m\u001b[0;34m\u001b[0m\u001b[0;34m\u001b[0m\u001b[0m\n\u001b[0;32m---> 34\u001b[0;31m     \u001b[0mloss\u001b[0m\u001b[0;34m.\u001b[0m\u001b[0mbackward\u001b[0m\u001b[0;34m(\u001b[0m\u001b[0;34m)\u001b[0m\u001b[0;34m\u001b[0m\u001b[0;34m\u001b[0m\u001b[0m\n\u001b[0m\u001b[1;32m     35\u001b[0m     \u001b[0mprint\u001b[0m\u001b[0;34m(\u001b[0m\u001b[0mloss\u001b[0m\u001b[0;34m)\u001b[0m\u001b[0;34m\u001b[0m\u001b[0;34m\u001b[0m\u001b[0m\n\u001b[1;32m     36\u001b[0m     \u001b[0moptimizer\u001b[0m\u001b[0;34m.\u001b[0m\u001b[0mstep\u001b[0m\u001b[0;34m(\u001b[0m\u001b[0;34m)\u001b[0m\u001b[0;34m\u001b[0m\u001b[0;34m\u001b[0m\u001b[0m\n",
      "\u001b[0;32m~/anaconda3/lib/python3.8/site-packages/torch/_tensor.py\u001b[0m in \u001b[0;36mbackward\u001b[0;34m(self, gradient, retain_graph, create_graph, inputs)\u001b[0m\n\u001b[1;32m    305\u001b[0m                 \u001b[0mcreate_graph\u001b[0m\u001b[0;34m=\u001b[0m\u001b[0mcreate_graph\u001b[0m\u001b[0;34m,\u001b[0m\u001b[0;34m\u001b[0m\u001b[0;34m\u001b[0m\u001b[0m\n\u001b[1;32m    306\u001b[0m                 inputs=inputs)\n\u001b[0;32m--> 307\u001b[0;31m         \u001b[0mtorch\u001b[0m\u001b[0;34m.\u001b[0m\u001b[0mautograd\u001b[0m\u001b[0;34m.\u001b[0m\u001b[0mbackward\u001b[0m\u001b[0;34m(\u001b[0m\u001b[0mself\u001b[0m\u001b[0;34m,\u001b[0m \u001b[0mgradient\u001b[0m\u001b[0;34m,\u001b[0m \u001b[0mretain_graph\u001b[0m\u001b[0;34m,\u001b[0m \u001b[0mcreate_graph\u001b[0m\u001b[0;34m,\u001b[0m \u001b[0minputs\u001b[0m\u001b[0;34m=\u001b[0m\u001b[0minputs\u001b[0m\u001b[0;34m)\u001b[0m\u001b[0;34m\u001b[0m\u001b[0;34m\u001b[0m\u001b[0m\n\u001b[0m\u001b[1;32m    308\u001b[0m \u001b[0;34m\u001b[0m\u001b[0m\n\u001b[1;32m    309\u001b[0m     \u001b[0;32mdef\u001b[0m \u001b[0mregister_hook\u001b[0m\u001b[0;34m(\u001b[0m\u001b[0mself\u001b[0m\u001b[0;34m,\u001b[0m \u001b[0mhook\u001b[0m\u001b[0;34m)\u001b[0m\u001b[0;34m:\u001b[0m\u001b[0;34m\u001b[0m\u001b[0;34m\u001b[0m\u001b[0m\n",
      "\u001b[0;32m~/anaconda3/lib/python3.8/site-packages/torch/autograd/__init__.py\u001b[0m in \u001b[0;36mbackward\u001b[0;34m(tensors, grad_tensors, retain_graph, create_graph, grad_variables, inputs)\u001b[0m\n\u001b[1;32m    152\u001b[0m         \u001b[0mretain_graph\u001b[0m \u001b[0;34m=\u001b[0m \u001b[0mcreate_graph\u001b[0m\u001b[0;34m\u001b[0m\u001b[0;34m\u001b[0m\u001b[0m\n\u001b[1;32m    153\u001b[0m \u001b[0;34m\u001b[0m\u001b[0m\n\u001b[0;32m--> 154\u001b[0;31m     Variable._execution_engine.run_backward(\n\u001b[0m\u001b[1;32m    155\u001b[0m         \u001b[0mtensors\u001b[0m\u001b[0;34m,\u001b[0m \u001b[0mgrad_tensors_\u001b[0m\u001b[0;34m,\u001b[0m \u001b[0mretain_graph\u001b[0m\u001b[0;34m,\u001b[0m \u001b[0mcreate_graph\u001b[0m\u001b[0;34m,\u001b[0m \u001b[0minputs\u001b[0m\u001b[0;34m,\u001b[0m\u001b[0;34m\u001b[0m\u001b[0;34m\u001b[0m\u001b[0m\n\u001b[1;32m    156\u001b[0m         allow_unreachable=True, accumulate_grad=True)  # allow_unreachable flag\n",
      "\u001b[0;31mRuntimeError\u001b[0m: Trying to backward through the graph a second time (or directly access saved tensors after they have already been freed). Saved intermediate values of the graph are freed when you call .backward() or autograd.grad(). Specify retain_graph=True if you need to backward through the graph a second time or if you need to access saved tensors after calling backward."
     ]
    },
    {
     "data": {
      "image/png": "[encoded data removed]",
      "text/plain": [
       "<Figure size 432x288 with 2 Axes>"
      ]
     },
     "metadata": {
      "needs_background": "light"
     },
     "output_type": "display_data"
    }
   ],
   "source": [
    "for i in range(10000):\n",
    "    optimizer.zero_grad() \n",
    "    for gg in range(ns):\n",
    "        \n",
    "        \n",
    "        y = model(x)\n",
    "        y = ((vvmax - vvmin) * torch.tanh(y) + (vvmax + vvmin))/2.0\n",
    "        y = torch.squeeze(y)\n",
    "        y_shape0 = (y.shape[0] - vp0.shape[0])//2\n",
    "        y_shape1 = (y.shape[1] - vp0.shape[1])//2\n",
    "        velocity = vp0 + y[y_shape0:y_shape0+vp0.shape[0],y_shape1:y_shape1+vp0.shape[1]]\n",
    "        velocity = torch.where(velocity > vmax, maxline, velocity)\n",
    "        velocity = torch.where(velocity < vmin, minline, velocity)\n",
    "        \n",
    "        vp1 = pad(velocity,nbc,pad_top)\n",
    "        ca=torch.mul(vp1**2,den)\n",
    "        cm=torch.mul((vs0**2),den)\n",
    "        cl=ca - 2*cm\n",
    "#         den[0:pad_top,:] = 0.5*den[0:pad_top,:]\n",
    "        den1=den\n",
    "#         den1[pad_top-1,:]=2*den1[pad_top-1,:]\n",
    "#         cm[0:pad_top,:]=0.5*cm[0:pad_top,:]\n",
    "        cm1=cm;\n",
    "#         cl[0:pad_top-1,:]=0.0;\n",
    "#         cm1[pad_top-1,:]=2*cm1[pad_top-1,:]\n",
    "        ca=cl + 2*cm\n",
    "        b=dtx*torch.reciprocal(den)\n",
    "        b1=dtx*torch.reciprocal(den1)\n",
    "        input_vector[6] = int(sx[gg])\n",
    "#         [uu,wwt]=staggeredfd_py_cuda(input_vector,temp,ca,cl,cm,cm1,b,b1,s)\n",
    "        [seismo_u,seismo_w]=staggeredfd_py_cuda(input_vector,temp,ca,cl,cm,cm1,b,b1,s)\n",
    "        loss = criteon(seismo_w.reshape(-1,1),seismo_v_d[gg,:,:].reshape(-1,1))\n",
    "        loss.backward()\n",
    "        print(loss)\n",
    "    optimizer.step()\n",
    "    print('step')\n",
    "    if i%5==0:\n",
    "        imagesc(velocity.detach().cpu().numpy())\n",
    "#         plt.savefig('./model_low/iter' + str(j) + '.png')"
   ]
  },
  {
   "cell_type": "code",
   "execution_count": null,
   "id": "aa886be1",
   "metadata": {},
   "outputs": [],
   "source": []
  },
  {
   "cell_type": "code",
   "execution_count": 23,
   "id": "6d9f9c5b",
   "metadata": {},
   "outputs": [
    {
     "data": {
      "image/png": "[encoded data removed]",
      "text/plain": [
       "<Figure size 432x288 with 2 Axes>"
      ]
     },
     "metadata": {
      "needs_background": "light"
     },
     "output_type": "display_data"
    }
   ],
   "source": [
    "# j=0\n",
    "imagesc(y.detach().cpu().numpy())\n",
    "# plt.savefig('./model_low/iter' + str(j) + '.png')"
   ]
  },
  {
   "cell_type": "code",
   "execution_count": 57,
   "id": "a6860867",
   "metadata": {},
   "outputs": [
    {
     "data": {
      "image/png": "[encoded data removed]",
      "text/plain": [
       "<Figure size 432x288 with 2 Axes>"
      ]
     },
     "metadata": {
      "needs_background": "light"
     },
     "output_type": "display_data"
    }
   ],
   "source": [
    "imagesc(y.detach().cpu().numpy())"
   ]
  },
  {
   "cell_type": "code",
   "execution_count": 63,
   "id": "a2a93f3c",
   "metadata": {},
   "outputs": [],
   "source": [
    "import copy\n",
    "model_low_model_wts = copy.deepcopy(model.state_dict())\n",
    "PATH = \"./my_model_low.pth\"\n",
    "torch.save(model_low_model_wts, PATH)"
   ]
  },
  {
   "cell_type": "code",
   "execution_count": 29,
   "id": "264d627b",
   "metadata": {},
   "outputs": [
    {
     "data": {
      "image/png": "[encoded data removed]",
      "text/plain": [
       "<Figure size 432x288 with 2 Axes>"
      ]
     },
     "metadata": {
      "needs_background": "light"
     },
     "output_type": "display_data"
    }
   ],
   "source": [
    "imagesc(seismo_w.detach().cpu().numpy())"
   ]
  },
  {
   "cell_type": "code",
   "execution_count": null,
   "id": "a6252d2d",
   "metadata": {},
   "outputs": [],
   "source": []
  }
 ],
 "metadata": {
  "kernelspec": {
   "display_name": "Python 3 (ipykernel)",
   "language": "python",
   "name": "python3"
  },
  "language_info": {
   "codemirror_mode": {
    "name": "ipython",
    "version": 3
   },
   "file_extension": ".py",
   "mimetype": "text/x-python",
   "name": "python",
   "nbconvert_exporter": "python",
   "pygments_lexer": "ipython3",
   "version": "3.10.4"
  },
  "varInspector": {
   "cols": {
    "lenName": 16,
    "lenType": 16,
    "lenVar": 40
   },
   "kernels_config": {
    "python": {
     "delete_cmd_postfix": "",
     "delete_cmd_prefix": "del ",
     "library": "var_list.py",
     "varRefreshCmd": "print(var_dic_list())"
    },
    "r": {
     "delete_cmd_postfix": ") ",
     "delete_cmd_prefix": "rm(",
     "library": "var_list.r",
     "varRefreshCmd": "cat(var_dic_list()) "
    }
   },
   "position": {
    "height": "699.85px",
    "left": "1481.2px",
    "right": "20px",
    "top": "87px",
    "width": "350px"
   },
   "types_to_exclude": [
    "module",
    "function",
    "builtin_function_or_method",
    "instance",
    "_Feature"
   ],
   "window_display": true
  }
 },
 "nbformat": 4,
 "nbformat_minor": 5
}
